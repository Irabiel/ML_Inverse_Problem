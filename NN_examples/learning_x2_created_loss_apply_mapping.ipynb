{
 "cells": [
  {
   "cell_type": "code",
   "execution_count": 1,
   "id": "cdad7102",
   "metadata": {},
   "outputs": [],
   "source": [
    "import torch\n",
    "import torch.nn as nn\n",
    "import torch.optim as optim\n",
    "import torch.nn.functional as F\n",
    "from torch.utils.data import DataLoader\n",
    "import torchvision.datasets as datasets\n",
    "import torchvision.transforms as transforms\n",
    "\n",
    "import numpy as np\n",
    "import matplotlib.pyplot as plt"
   ]
  },
  {
   "cell_type": "code",
   "execution_count": 2,
   "id": "02136f5b",
   "metadata": {},
   "outputs": [],
   "source": [
    "class NN(nn.Module):\n",
    "    def __init__(self, input_size, num_classes):\n",
    "        super(NN,self).__init__()\n",
    "        self.fc1 = nn.Linear(input_size, 50)\n",
    "        self.fc2 = nn.Linear(50, num_classes)\n",
    "        \n",
    "    def forward(self, x):\n",
    "        x = F.relu(self.fc1(x))\n",
    "        x = self.fc2(x)\n",
    "        return x"
   ]
  },
  {
   "cell_type": "code",
   "execution_count": 3,
   "id": "dd4e4541",
   "metadata": {},
   "outputs": [],
   "source": [
    "device = torch.device('cuda' if torch.cuda.is_available() else 'cpu')"
   ]
  },
  {
   "cell_type": "code",
   "execution_count": 4,
   "id": "06eca8e8",
   "metadata": {},
   "outputs": [],
   "source": [
    "input_size = 1\n",
    "num_classes = 1\n",
    "learning_rate = 0.001\n",
    "batch_size = 64\n",
    "num_epochs = 100"
   ]
  },
  {
   "cell_type": "code",
   "execution_count": 104,
   "id": "87182d67",
   "metadata": {},
   "outputs": [],
   "source": [
    "x = np.linspace(-1,1,50)\n",
    "x = x.reshape(50,1)\n",
    "x = torch.from_numpy(x)\n",
    "data_test = x**3\n",
    "\n",
    "x_test = np.linspace(-1,1,500)\n",
    "x_test = x_test.reshape(500,1)\n",
    "np.random.shuffle(x_test)\n",
    "x_test = torch.from_numpy(x_test)\n",
    "data_train = x_test**3\n",
    "train_loader = (x_test, data_train)"
   ]
  },
  {
   "cell_type": "code",
   "execution_count": 118,
   "id": "1558886b",
   "metadata": {},
   "outputs": [],
   "source": [
    "model = NN(input_size=input_size, num_classes=num_classes).to(device)\n"
   ]
  },
  {
   "cell_type": "code",
   "execution_count": 144,
   "id": "e211ed7a",
   "metadata": {},
   "outputs": [
    {
     "name": "stdout",
     "output_type": "stream",
     "text": [
      "[array([ 0.0000000e+00,  0.0000000e+00,  4.6070836e-06,  1.8207498e-06,\n",
      "        1.4160645e-06,  4.2056007e-07,  0.0000000e+00,  0.0000000e+00,\n",
      "        9.6774908e-09, -1.1017859e-06,  0.0000000e+00,  0.0000000e+00,\n",
      "       -8.3258789e-07,  9.6876681e-07,  0.0000000e+00,  6.7613166e-07,\n",
      "        0.0000000e+00, -1.0562250e-06,  0.0000000e+00,  0.0000000e+00,\n",
      "        0.0000000e+00,  0.0000000e+00,  8.8776500e-07, -6.1134921e-07,\n",
      "       -2.7299697e-07, -4.5923198e-07, -1.1110777e-06, -1.5178691e-06,\n",
      "        7.4668037e-07,  2.6946359e-06,  1.2189823e-06,  2.1249003e-08,\n",
      "       -4.4170133e-07,  0.0000000e+00,  2.3323907e-06, -1.0163091e-06,\n",
      "        0.0000000e+00,  0.0000000e+00,  2.1020514e-07,  0.0000000e+00,\n",
      "        2.5270390e-07,  0.0000000e+00,  0.0000000e+00,  0.0000000e+00,\n",
      "        6.7962532e-07,  0.0000000e+00,  0.0000000e+00,  0.0000000e+00,\n",
      "        0.0000000e+00, -1.8476010e-08], dtype=float32), array([ 0.0000000e+00,  0.0000000e+00, -5.6703157e-06,  2.4241997e-06,\n",
      "       -4.5232173e-06, -1.3433612e-06,  0.0000000e+00,  0.0000000e+00,\n",
      "       -3.0912009e-08,  3.5193448e-06,  0.0000000e+00,  0.0000000e+00,\n",
      "       -4.0012108e-07,  1.1110316e-06,  0.0000000e+00, -9.3147480e-07,\n",
      "        0.0000000e+00,  3.3738129e-06,  0.0000000e+00,  0.0000000e+00,\n",
      "        0.0000000e+00,  0.0000000e+00,  1.4546908e-06,  1.9527838e-06,\n",
      "        8.7201209e-07,  1.4668871e-06,  1.2878413e-06,  4.8484053e-06,\n",
      "        8.5633155e-07, -3.4477343e-06,  6.5296672e-07, -6.7873955e-08,\n",
      "        1.4108907e-06,  0.0000000e+00, -2.1639680e-06,  3.2463136e-06,\n",
      "        0.0000000e+00,  0.0000000e+00, -6.7144106e-07,  0.0000000e+00,\n",
      "       -8.0719144e-07,  0.0000000e+00,  0.0000000e+00,  0.0000000e+00,\n",
      "        1.0485917e-06,  0.0000000e+00,  0.0000000e+00,  0.0000000e+00,\n",
      "        0.0000000e+00,  5.9016390e-08], dtype=float32), array([0.00000000e+00, 0.00000000e+00, 1.94491931e-05, 9.62045192e-07,\n",
      "       8.61234548e-06, 2.15883465e-05, 0.00000000e+00, 0.00000000e+00,\n",
      "       1.20974028e-05, 1.59586598e-05, 0.00000000e+00, 0.00000000e+00,\n",
      "       5.06753713e-06, 2.42631904e-06, 0.00000000e+00, 6.57223836e-06,\n",
      "       0.00000000e+00, 1.06380585e-05, 0.00000000e+00, 0.00000000e+00,\n",
      "       0.00000000e+00, 0.00000000e+00, 4.21475215e-06, 8.09583707e-06,\n",
      "       1.00336674e-05, 7.47070089e-06, 1.20116456e-05, 6.68913617e-06,\n",
      "       1.83894076e-06, 2.21672617e-05, 4.11856900e-06, 5.93211462e-06,\n",
      "       1.37832876e-05, 0.00000000e+00, 1.53865549e-05, 1.62787346e-05,\n",
      "       0.00000000e+00, 0.00000000e+00, 8.53745223e-06, 0.00000000e+00,\n",
      "       1.13455162e-05, 0.00000000e+00, 0.00000000e+00, 0.00000000e+00,\n",
      "       4.37775179e-06, 0.00000000e+00, 0.00000000e+00, 0.00000000e+00,\n",
      "       0.00000000e+00, 1.33224448e-05], dtype=float32), array([2.0289912e-05], dtype=float32)]\n"
     ]
    }
   ],
   "source": [
    "\n",
    "gradients = []\n",
    "for p in model.parameters():\n",
    "    gradients.append(p.grad.view(-1).numpy())\n",
    "    \n",
    "print(gradients)"
   ]
  },
  {
   "cell_type": "code",
   "execution_count": 119,
   "id": "20eceed6",
   "metadata": {},
   "outputs": [],
   "source": [
    "# Define the loss function\n",
    "def loss_fn(output, target):\n",
    "    return torch.mean((output - target) ** 2)\n",
    "\n",
    "optimizer = optim.Adam(model.parameters(), lr = learning_rate)"
   ]
  },
  {
   "cell_type": "code",
   "execution_count": 129,
   "id": "0eb188ba",
   "metadata": {},
   "outputs": [
    {
     "name": "stdout",
     "output_type": "stream",
     "text": [
      "Epoch 0: Loss = 0.0746\n",
      "Epoch 1000: Loss = 0.0000\n",
      "Epoch 2000: Loss = 0.0000\n",
      "Epoch 3000: Loss = 0.0000\n",
      "Epoch 4000: Loss = 0.0000\n",
      "Epoch 5000: Loss = 0.0000\n",
      "Epoch 6000: Loss = 0.0000\n",
      "Epoch 7000: Loss = 0.0000\n",
      "Epoch 8000: Loss = 0.0000\n",
      "Epoch 9000: Loss = 0.0000\n"
     ]
    }
   ],
   "source": [
    "# Train the network\n",
    "for epoch in range(10000):\n",
    "    optimizer.zero_grad()\n",
    "    y_pred = model(x_test.float())\n",
    "    y_pred = y_pred**3\n",
    "    loss = loss_fn(y_pred, data_train.float())\n",
    "    loss.backward()\n",
    "    optimizer.step()\n",
    "\n",
    "    if epoch % 1000 == 0:\n",
    "        print(f'Epoch {epoch}: Loss = {loss.item():.4f}')"
   ]
  },
  {
   "cell_type": "code",
   "execution_count": 39,
   "id": "c56622cb",
   "metadata": {},
   "outputs": [
    {
     "name": "stdout",
     "output_type": "stream",
     "text": [
      "Epoch 0: Loss = 0.0015\n",
      "Epoch 10: Loss = 0.0003\n",
      "Epoch 20: Loss = 0.0002\n",
      "Epoch 30: Loss = 0.0002\n",
      "Epoch 40: Loss = 0.0002\n",
      "Epoch 50: Loss = 0.0002\n",
      "Epoch 60: Loss = 0.0002\n",
      "Epoch 70: Loss = 0.0001\n",
      "Epoch 80: Loss = 0.0001\n",
      "Epoch 90: Loss = 0.0001\n"
     ]
    }
   ],
   "source": [
    "for epoch in range(num_epochs):\n",
    "    for i in range(len(data_train)):\n",
    "        #Gat data to cuda if possible\n",
    "        targets = data_train[i]\n",
    "        \n",
    "        # forward\n",
    "        scores = model(x_test[i].float())\n",
    "        scores = scores**3\n",
    "        loss = loss_fn(scores, targets.float())\n",
    "        \n",
    "        # backward prop\n",
    "        optimizer.zero_grad()\n",
    "        loss.backward()\n",
    "        \n",
    "        # gradient descent or adam step\n",
    "        optimizer.step()\n",
    "        \n",
    "        if epoch % 10 == 0 and i == 0:\n",
    "            print(f'Epoch {epoch}: Loss = {loss.item():.4f}')"
   ]
  },
  {
   "cell_type": "code",
   "execution_count": 130,
   "id": "8b95e738",
   "metadata": {},
   "outputs": [],
   "source": [
    "y_test = model(x.float())"
   ]
  },
  {
   "cell_type": "code",
   "execution_count": 131,
   "id": "1003e8ad",
   "metadata": {},
   "outputs": [
    {
     "data": {
      "image/png": "[encoded data removed]",
      "text/plain": [
       "<Figure size 432x288 with 1 Axes>"
      ]
     },
     "metadata": {
      "needs_background": "light"
     },
     "output_type": "display_data"
    }
   ],
   "source": [
    "# Plot the results\n",
    "plt.plot(x_test.detach().numpy(), x_test.detach().numpy(), 'o', label='Training data')\n",
    "plt.plot(x.detach().numpy(), y_test.detach().numpy(), label='Target function')\n",
    "plt.legend()\n",
    "plt.show()"
   ]
  },
  {
   "cell_type": "code",
   "execution_count": null,
   "id": "ac4e8c24",
   "metadata": {},
   "outputs": [],
   "source": []
  }
 ],
 "metadata": {
  "kernelspec": {
   "display_name": "Python 3 (ipykernel)",
   "language": "python",
   "name": "python3"
  },
  "language_info": {
   "codemirror_mode": {
    "name": "ipython",
    "version": 3
   },
   "file_extension": ".py",
   "mimetype": "text/x-python",
   "name": "python",
   "nbconvert_exporter": "python",
   "pygments_lexer": "ipython3",
   "version": "3.10.4"
  }
 },
 "nbformat": 4,
 "nbformat_minor": 5
}
