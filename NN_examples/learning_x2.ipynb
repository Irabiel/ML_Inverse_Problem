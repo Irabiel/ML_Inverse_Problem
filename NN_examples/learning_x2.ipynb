{
 "cells": [
  {
   "cell_type": "code",
   "execution_count": 123,
   "id": "cdad7102",
   "metadata": {},
   "outputs": [],
   "source": [
    "import torch\n",
    "import torch.nn as nn\n",
    "import torch.optim as optim\n",
    "import torch.nn.functional as F\n",
    "from torch.utils.data import DataLoader\n",
    "import torchvision.datasets as datasets\n",
    "import torchvision.transforms as transforms\n",
    "\n",
    "import numpy as np\n",
    "import matplotlib.pyplot as plt"
   ]
  },
  {
   "cell_type": "code",
   "execution_count": 2,
   "id": "02136f5b",
   "metadata": {},
   "outputs": [],
   "source": [
    "class NN(nn.Module):\n",
    "    def __init__(self, input_size, num_classes):\n",
    "        super(NN,self).__init__()\n",
    "        self.fc1 = nn.Linear(input_size, 50)\n",
    "        self.fc2 = nn.Linear(50, num_classes)\n",
    "        \n",
    "    def forward(self, x):\n",
    "        x = F.relu(self.fc1(x))\n",
    "        x = self.fc2(x)\n",
    "        return x"
   ]
  },
  {
   "cell_type": "code",
   "execution_count": 3,
   "id": "dd4e4541",
   "metadata": {},
   "outputs": [],
   "source": [
    "device = torch.device('cuda' if torch.cuda.is_available() else 'cpu')"
   ]
  },
  {
   "cell_type": "code",
   "execution_count": 94,
   "id": "06eca8e8",
   "metadata": {},
   "outputs": [],
   "source": [
    "input_size = 1\n",
    "num_classes = 1\n",
    "learning_rate = 0.001\n",
    "batch_size = 64\n",
    "num_epochs = 100"
   ]
  },
  {
   "cell_type": "code",
   "execution_count": 125,
   "id": "87182d67",
   "metadata": {},
   "outputs": [],
   "source": [
    "x = np.linspace(0,1,50)\n",
    "x = x.reshape(50,1)\n",
    "x = torch.from_numpy(x)\n",
    "data_test = x**2\n",
    "\n",
    "x_test = np.linspace(0,1,500)\n",
    "x_test = x_test.reshape(500,1)\n",
    "np.random.shuffle(x_test)\n",
    "x_test = torch.from_numpy(x_test)\n",
    "data_train = x_test**2\n",
    "train_loader = (x_test, data_train)"
   ]
  },
  {
   "cell_type": "code",
   "execution_count": 131,
   "id": "1558886b",
   "metadata": {},
   "outputs": [],
   "source": [
    "model = NN(input_size=input_size, num_classes=num_classes).to(device)\n"
   ]
  },
  {
   "cell_type": "code",
   "execution_count": 132,
   "id": "20eceed6",
   "metadata": {},
   "outputs": [],
   "source": [
    "criterion = nn.MSELoss()\n",
    "optimizer = optim.SGD(model.parameters(), lr = learning_rate)"
   ]
  },
  {
   "cell_type": "raw",
   "id": "1acedd9a",
   "metadata": {},
   "source": [
    "# Train the network\n",
    "for epoch in range(5000):\n",
    "    optimizer.zero_grad()\n",
    "    y_pred = model(x_test.float())\n",
    "    loss = criterion(y_pred, data_train.float())\n",
    "    loss.backward()\n",
    "    optimizer.step()\n",
    "\n",
    "    if epoch % 1000 == 0:\n",
    "        print(f'Epoch {epoch}: Loss = {loss.item():.4f}')"
   ]
  },
  {
   "cell_type": "code",
   "execution_count": 135,
   "id": "c56622cb",
   "metadata": {},
   "outputs": [
    {
     "name": "stdout",
     "output_type": "stream",
     "text": [
      "Epoch 0: Loss = 0.0000\n",
      "Epoch 10: Loss = 0.0000\n",
      "Epoch 20: Loss = 0.0000\n",
      "Epoch 30: Loss = 0.0000\n",
      "Epoch 40: Loss = 0.0000\n",
      "Epoch 50: Loss = 0.0000\n",
      "Epoch 60: Loss = 0.0000\n",
      "Epoch 70: Loss = 0.0000\n",
      "Epoch 80: Loss = 0.0000\n",
      "Epoch 90: Loss = 0.0000\n"
     ]
    }
   ],
   "source": [
    "for epoch in range(num_epochs):\n",
    "    for i in range(len(data_train)):\n",
    "        #Gat data to cuda if possible\n",
    "        targets = data_train[i]\n",
    "        \n",
    "        # forward\n",
    "        scores = model(x_test[i].float())\n",
    "        loss = criterion(scores, targets.float())\n",
    "        \n",
    "        # backward prop\n",
    "        optimizer.zero_grad()\n",
    "        loss.backward()\n",
    "        \n",
    "        # gradient descent or adam step\n",
    "        optimizer.step()\n",
    "        \n",
    "        if epoch % 10 == 0 and i == 0:\n",
    "            print(f'Epoch {epoch}: Loss = {loss.item():.4f}')"
   ]
  },
  {
   "cell_type": "code",
   "execution_count": 138,
   "id": "8b95e738",
   "metadata": {},
   "outputs": [],
   "source": [
    "y_test = model(x.float())"
   ]
  },
  {
   "cell_type": "code",
   "execution_count": 140,
   "id": "1003e8ad",
   "metadata": {},
   "outputs": [
    {
     "data": {
      "image/png": "[encoded data removed]",
      "text/plain": [
       "<Figure size 432x288 with 1 Axes>"
      ]
     },
     "metadata": {
      "needs_background": "light"
     },
     "output_type": "display_data"
    }
   ],
   "source": [
    "# Plot the results\n",
    "plt.plot(x_test.detach().numpy(), data_train.detach().numpy(), 'o', label='Training data')\n",
    "plt.plot(x.detach().numpy(), y_test.detach().numpy(), label='Target function')\n",
    "plt.legend()\n",
    "plt.show()"
   ]
  },
  {
   "cell_type": "code",
   "execution_count": null,
   "id": "ac4e8c24",
   "metadata": {},
   "outputs": [],
   "source": []
  }
 ],
 "metadata": {
  "kernelspec": {
   "display_name": "Python 3 (ipykernel)",
   "language": "python",
   "name": "python3"
  },
  "language_info": {
   "codemirror_mode": {
    "name": "ipython",
    "version": 3
   },
   "file_extension": ".py",
   "mimetype": "text/x-python",
   "name": "python",
   "nbconvert_exporter": "python",
   "pygments_lexer": "ipython3",
   "version": "3.10.4"
  }
 },
 "nbformat": 4,
 "nbformat_minor": 5
}
