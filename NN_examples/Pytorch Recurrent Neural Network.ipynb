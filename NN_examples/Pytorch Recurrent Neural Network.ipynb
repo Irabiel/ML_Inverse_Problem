{
 "cells": [
  {
   "cell_type": "code",
   "execution_count": 36,
   "id": "824e68ba",
   "metadata": {},
   "outputs": [],
   "source": [
    "import torch\n",
    "import torch.nn as nn\n",
    "import torch.optim as optim\n",
    "import torch.nn.functional as F\n",
    "from torch.utils.data import DataLoader\n",
    "import torchvision.datasets as datasets\n",
    "import torchvision.transforms as transforms"
   ]
  },
  {
   "cell_type": "markdown",
   "id": "f16b4e51",
   "metadata": {},
   "source": [
    "#  Create Networks"
   ]
  },
  {
   "cell_type": "code",
   "execution_count": 44,
   "id": "d84b46ed",
   "metadata": {},
   "outputs": [],
   "source": [
    "class NN(nn.Module):\n",
    "    def __init__(self, input_size, num_classes):\n",
    "        super(NN,self).__init__()\n",
    "        self.fc1 = nn.Linear(input_size, 50)\n",
    "        self.fc2 = nn.Linear(50, num_classes)\n",
    "        \n",
    "    def forward(self, x):\n",
    "        x = F.relu(self.fc1(x))\n",
    "        x = self.fc2(x)\n",
    "        return x\n",
    "\n",
    "# Recurrent neural network\n",
    "class RNN(nn.Module):\n",
    "    def __init__(self, input_size, hidden_size, sequence_length, num_layers, num_classes):\n",
    "        super(RNN, self).__init__()\n",
    "        self.hidden_size = hidden_size\n",
    "        self.num_layers = num_layers\n",
    "        self.rnn = nn.RNN(input_size, hidden_size, num_layers, batch_first=True)\n",
    "        self.fc = nn.Linear(hidden_size*sequence_length, num_classes)\n",
    "        \n",
    "    def forward(self, x):\n",
    "        h0 = torch.zeros(self.num_layers, x.size(0), self.hidden_size).to(device)\n",
    "        \n",
    "        # Forward Prop\n",
    "        out, _ = self.rnn(x,h0)\n",
    "        out = out.reshape(out.shape[0], -1)\n",
    "        out = self.fc(out)\n",
    "        return out\n",
    "    \n",
    "# Gated Recurrent Unit\n",
    "class RNN_GRU(nn.Module):\n",
    "    def __init__(self, input_size, hidden_size, sequence_length, num_layers, num_classes):\n",
    "        super(RNN_GRU, self).__init__()\n",
    "        self.hidden_size = hidden_size\n",
    "        self.num_layers = num_layers\n",
    "        self.gru = nn.GRU(input_size, hidden_size, num_layers, batch_first=True)\n",
    "        self.fc = nn.Linear(hidden_size*sequence_length, num_classes)\n",
    "        \n",
    "    def forward(self, x):\n",
    "        h0 = torch.zeros(self.num_layers, x.size(0), self.hidden_size).to(device)\n",
    "        \n",
    "        # Forward Prop\n",
    "        out, _ = self.gru(x,h0)\n",
    "        out = out.reshape(out.shape[0], -1)\n",
    "        out = self.fc(out)\n",
    "        return out\n",
    "\n",
    "# Long Short Term Memory\n",
    "class RNN_LSTM(nn.Module):\n",
    "    def __init__(self, input_size, hidden_size, sequence_length, num_layers, num_classes):\n",
    "        super(RNN_LSTM, self).__init__()\n",
    "        self.hidden_size = hidden_size\n",
    "        self.num_layers = num_layers\n",
    "        self.lstm = nn.LSTM(input_size, hidden_size, num_layers, batch_first=True)\n",
    "        self.fc = nn.Linear(hidden_size*sequence_length, num_classes)\n",
    "        \n",
    "    def forward(self, x):\n",
    "        h0 = torch.zeros(self.num_layers, x.size(0), self.hidden_size).to(device)\n",
    "        c0 = torch.zeros(self.num_layers, x.size(0), self.hidden_size).to(device)\n",
    "        \n",
    "        # Forward Prop\n",
    "        out, _ = self.lstm(x,(h0, c0))\n",
    "        out = out.reshape(out.shape[0], -1)\n",
    "        out = self.fc(out)\n",
    "        return out\n",
    "    \n",
    "# Long Short Term Memory only last hidden state\n",
    "class RNN_LSTM2(nn.Module):\n",
    "    def __init__(self, input_size, hidden_size, sequence_length, num_layers, num_classes):\n",
    "        super(RNN_LSTM2, self).__init__()\n",
    "        self.hidden_size = hidden_size\n",
    "        self.num_layers = num_layers\n",
    "        self.lstm = nn.LSTM(input_size, hidden_size, num_layers, batch_first=True)\n",
    "        self.fc = nn.Linear(hidden_size, num_classes)\n",
    "        \n",
    "    def forward(self, x):\n",
    "        h0 = torch.zeros(self.num_layers, x.size(0), self.hidden_size).to(device)\n",
    "        c0 = torch.zeros(self.num_layers, x.size(0), self.hidden_size).to(device)\n",
    "        \n",
    "        # Forward Prop\n",
    "        out, _ = self.lstm(x,(h0, c0))\n",
    "        out = self.fc(out[:,-1,:])\n",
    "        return out"
   ]
  },
  {
   "cell_type": "markdown",
   "id": "c89b2e83",
   "metadata": {},
   "source": [
    "# verifying the network is working"
   ]
  },
  {
   "cell_type": "raw",
   "id": "47b09d27",
   "metadata": {},
   "source": [
    "model = RNN(input_size, hidden_size, squence_length, num_layers, num_classes)\n",
    "x = torch.randn(64,28,28)\n",
    "print(model(x).shape)"
   ]
  },
  {
   "cell_type": "markdown",
   "id": "1c69f5ae",
   "metadata": {},
   "source": [
    "# set device"
   ]
  },
  {
   "cell_type": "code",
   "execution_count": 38,
   "id": "37f35dff",
   "metadata": {},
   "outputs": [],
   "source": [
    "device = torch.device('cuda' if torch.cuda.is_available() else 'cpu')"
   ]
  },
  {
   "cell_type": "markdown",
   "id": "1971180e",
   "metadata": {},
   "source": [
    "# hyperparameters"
   ]
  },
  {
   "cell_type": "code",
   "execution_count": 39,
   "id": "64e34d52",
   "metadata": {},
   "outputs": [],
   "source": [
    "input_size = 28\n",
    "squence_length = 28\n",
    "num_layers = 2\n",
    "hidden_size = 256\n",
    "num_classes = 10\n",
    "learning_rate = 0.001\n",
    "batch_size = 64\n",
    "num_epochs = 2"
   ]
  },
  {
   "cell_type": "markdown",
   "id": "435eb182",
   "metadata": {},
   "source": [
    "# load Data"
   ]
  },
  {
   "cell_type": "code",
   "execution_count": 40,
   "id": "bf7802a0",
   "metadata": {},
   "outputs": [],
   "source": [
    "train_dataset = datasets.MNIST(root = 'dataset/', train = True, transform=transforms.ToTensor(), download=True)\n",
    "train_loader = DataLoader(dataset=train_dataset, batch_size=batch_size, shuffle=True)\n",
    "test_dataset = datasets.MNIST(root='dataset/', train=False, transform=transforms.ToTensor(), download=True)\n",
    "test_loader = DataLoader(dataset=test_dataset, batch_size=batch_size, shuffle=True)\n"
   ]
  },
  {
   "cell_type": "markdown",
   "id": "c59df8fa",
   "metadata": {},
   "source": [
    "# Initialize network"
   ]
  },
  {
   "cell_type": "code",
   "execution_count": 45,
   "id": "abde27fd",
   "metadata": {},
   "outputs": [],
   "source": [
    "model = RNN(input_size, hidden_size, squence_length, num_layers, num_classes).to(device)\n",
    "model_gru = RNN_GRU(input_size, hidden_size, squence_length, num_layers, num_classes).to(device)\n",
    "model_lstm = RNN_LSTM(input_size, hidden_size, squence_length, num_layers, num_classes).to(device)\n",
    "model_lstm2 = RNN_LSTM2(input_size, hidden_size, squence_length, num_layers, num_classes).to(device)"
   ]
  },
  {
   "cell_type": "markdown",
   "id": "eca3ba30",
   "metadata": {},
   "source": [
    "# Loss and optimizer"
   ]
  },
  {
   "cell_type": "code",
   "execution_count": 57,
   "id": "b9b8cb68",
   "metadata": {},
   "outputs": [],
   "source": [
    "criterion = nn.CrossEntropyLoss()\n",
    "criterion_g = nn.CrossEntropyLoss()\n",
    "criterion_l = nn.CrossEntropyLoss()\n",
    "criterion_l2 = nn.CrossEntropyLoss()\n",
    "\n",
    "optimizer = optim.Adam(model.parameters(), lr = learning_rate)\n",
    "optimizer_g = optim.Adam(model_gru.parameters(), lr = learning_rate)\n",
    "optimizer_l = optim.Adam(model_lstm.parameters(), lr = learning_rate)\n",
    "optimizer_l2 = optim.Adam(model_lstm2.parameters(), lr = learning_rate)"
   ]
  },
  {
   "cell_type": "markdown",
   "id": "5d095660",
   "metadata": {},
   "source": [
    "# Train Network"
   ]
  },
  {
   "cell_type": "code",
   "execution_count": 58,
   "id": "2fd49d9b",
   "metadata": {
    "scrolled": true
   },
   "outputs": [],
   "source": [
    "for epoch in range(num_epochs):\n",
    "    for batch_idx, (data, targets) in enumerate(train_loader):\n",
    "        #Gat data to cuda if possible\n",
    "        data = data.to(device = device).squeeze(1)\n",
    "        targets = targets.to(device = device)\n",
    "        \n",
    "        \n",
    "        # forward for RNN\n",
    "        scores = model(data)\n",
    "        loss = criterion(scores, targets)\n",
    "        \n",
    "        # backward prop\n",
    "        optimizer.zero_grad()\n",
    "        loss.backward()\n",
    "        \n",
    "        # gradient descent or adam step\n",
    "        optimizer.step()\n",
    "        \n",
    "        \n",
    "        # forward for GRU\n",
    "        scores_g = model_gru(data)\n",
    "        loss_g = criterion_g(scores_g, targets)\n",
    "        \n",
    "        # backward prop\n",
    "        optimizer_g.zero_grad()\n",
    "        loss_g.backward()\n",
    "        \n",
    "        # gradient descent or adam step\n",
    "        optimizer_g.step()\n",
    "        \n",
    "        \n",
    "        # forward for LSTM\n",
    "        scores_l = model_lstm(data)\n",
    "        loss_l = criterion_l(scores_l, targets)\n",
    "        \n",
    "        # backward prop\n",
    "        optimizer_l.zero_grad()\n",
    "        loss_l.backward()\n",
    "        \n",
    "        # gradient descent or adam step\n",
    "        optimizer_l.step()\n",
    "        \n",
    "        \n",
    "        # forward for LSTM only last hidden layer\n",
    "        scores_l2 = model_lstm2(data)\n",
    "        loss_l2 = criterion_l2(scores_l2, targets)\n",
    "        \n",
    "        # backward prop\n",
    "        optimizer_l2.zero_grad()\n",
    "        loss_l2.backward()\n",
    "        \n",
    "        # gradient descent or adam step\n",
    "        optimizer_l2.step()"
   ]
  },
  {
   "cell_type": "markdown",
   "id": "1a51d120",
   "metadata": {},
   "source": [
    "# Check accuracy on training & test to see how good our model"
   ]
  },
  {
   "cell_type": "code",
   "execution_count": 54,
   "id": "1478a1cc",
   "metadata": {},
   "outputs": [],
   "source": [
    "def check_accuracy(loader, model):\n",
    "    num_correct = 0\n",
    "    num_samples = 0\n",
    "    model.eval()\n",
    "    \n",
    "    with torch.no_grad():\n",
    "        for x,y in loader:\n",
    "            x = x.to(device = device).squeeze(1)\n",
    "            y = y.to(device = device)\n",
    "            \n",
    "            scores = model(x)\n",
    "            _, predictions = scores.max(1)\n",
    "            num_correct += (predictions == y).sum()\n",
    "            num_samples += predictions.size(0)\n",
    "            \n",
    "        print(f' Got {num_correct} / {num_samples} with accuracy {float(num_correct)/float(num_samples)*100:.2f}')\n",
    "    \n",
    "    model.train()\n",
    "    "
   ]
  },
  {
   "cell_type": "code",
   "execution_count": 59,
   "id": "e931f40f",
   "metadata": {},
   "outputs": [
    {
     "name": "stdout",
     "output_type": "stream",
     "text": [
      " Got 55886 / 60000 with accuracy 93.14\n",
      " Got 9224 / 10000 with accuracy 92.24\n",
      " Got 58874 / 60000 with accuracy 98.12\n",
      " Got 9781 / 10000 with accuracy 97.81\n",
      " Got 59159 / 60000 with accuracy 98.60\n",
      " Got 9845 / 10000 with accuracy 98.45\n",
      " Got 58958 / 60000 with accuracy 98.26\n",
      " Got 9810 / 10000 with accuracy 98.10\n"
     ]
    }
   ],
   "source": [
    "check_accuracy(train_loader, model)\n",
    "check_accuracy(test_loader, model)\n",
    "\n",
    "check_accuracy(train_loader, model_gru)\n",
    "check_accuracy(test_loader, model_gru)\n",
    "\n",
    "check_accuracy(train_loader, model_lstm)\n",
    "check_accuracy(test_loader, model_lstm)\n",
    "\n",
    "check_accuracy(train_loader, model_lstm2)\n",
    "check_accuracy(test_loader, model_lstm2)"
   ]
  },
  {
   "cell_type": "code",
   "execution_count": null,
   "id": "ae9290e5",
   "metadata": {},
   "outputs": [],
   "source": []
  }
 ],
 "metadata": {
  "kernelspec": {
   "display_name": "Python 3 (ipykernel)",
   "language": "python",
   "name": "python3"
  },
  "language_info": {
   "codemirror_mode": {
    "name": "ipython",
    "version": 3
   },
   "file_extension": ".py",
   "mimetype": "text/x-python",
   "name": "python",
   "nbconvert_exporter": "python",
   "pygments_lexer": "ipython3",
   "version": "3.9.12"
  }
 },
 "nbformat": 4,
 "nbformat_minor": 5
}
