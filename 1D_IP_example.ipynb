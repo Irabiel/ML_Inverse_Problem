{
 "cells": [
  {
   "cell_type": "code",
   "execution_count": 2,
   "id": "ee68566d",
   "metadata": {},
   "outputs": [],
   "source": [
    "import dolfin as dl\n",
    "from dolfin import *"
   ]
  },
  {
   "cell_type": "code",
   "execution_count": 3,
   "id": "48254e5d",
   "metadata": {},
   "outputs": [],
   "source": [
    "mesh = dl.UnitIntervalMesh(101)\n",
    "V = FunctionSpace(mesh, \"CG\", 1)"
   ]
  },
  {
   "cell_type": "code",
   "execution_count": 38,
   "id": "78a1a201",
   "metadata": {},
   "outputs": [],
   "source": [
    "def ud_boundary(x, on_boundary):\n",
    "    return on_boundary\n",
    "\n",
    "# Define boundary conditions\n",
    "ud = dl.Constant('0.0')\n",
    "bc = dl.DirichletBC(V, ud, ud_boundary)"
   ]
  },
  {
   "cell_type": "code",
   "execution_count": 58,
   "id": "6de954e7",
   "metadata": {},
   "outputs": [],
   "source": [
    "v = TestFunction(V)\n",
    "u = TrialFunction(V)\n",
    "\n",
    "q = dl.Constant(1.)\n",
    "qx = dl.Constant(0.)\n",
    "utrue = Expression('sin(2*pi*x[0]) * sin(2*pi*x[0])', degree=3)\n",
    "utx = Expression('4 * pi * sin(2*pi*x[0]) * cos(2*pi*x[0])', degree=3)\n",
    "utxx = Expression('-8*pi*pi*( sin(2*pi*x[0]) * sin(2*pi*x[0]) - cos(2*pi*x[0]) * cos(2*pi*x[0]) )', degree=3)\n",
    "\n",
    "f = -qx*utx - q*utxx"
   ]
  },
  {
   "cell_type": "code",
   "execution_count": 68,
   "id": "da6b1211",
   "metadata": {},
   "outputs": [
    {
     "name": "stdout",
     "output_type": "stream",
     "text": [
      "  Calling FFC just-in-time (JIT) compiler, this may take some time.\n"
     ]
    }
   ],
   "source": [
    "a = q * dot(grad(v), grad(u))*dx\n",
    "L = v*f*dx\n",
    "\n",
    "A, b = dl.assemble_system(a, L, bc)\n",
    "M = dl.assemble(v*u*dx)"
   ]
  },
  {
   "cell_type": "code",
   "execution_count": 60,
   "id": "32ddaf04",
   "metadata": {},
   "outputs": [
    {
     "data": {
      "text/plain": [
       "1"
      ]
     },
     "execution_count": 60,
     "metadata": {},
     "output_type": "execute_result"
    }
   ],
   "source": [
    "uh = Function(V)\n",
    "solve(A, uh.vector(), b)\n",
    "\n",
    "ud = dl.Function(Vu)\n",
    "ud.assign(utrue)\n",
    "\n",
    "# perturb state solution and create synthetic measurements ud\n",
    "# ud = u + ||u||/SNR * random.normal\n",
    "MAX = ud.vector().norm(\"linf\")\n",
    "noise = dl.Vector()\n",
    "goal_A.init_vector(noise,1)\n",
    "parRandom.normal(noise_level * MAX, noise)\n",
    "bc_adj.apply(noise)"
   ]
  },
  {
   "cell_type": "code",
   "execution_count": null,
   "id": "37ea0a38",
   "metadata": {},
   "outputs": [],
   "source": []
  }
 ],
 "metadata": {
  "kernelspec": {
   "display_name": "Python 3 (ipykernel)",
   "language": "python",
   "name": "python3"
  },
  "language_info": {
   "codemirror_mode": {
    "name": "ipython",
    "version": 3
   },
   "file_extension": ".py",
   "mimetype": "text/x-python",
   "name": "python",
   "nbconvert_exporter": "python",
   "pygments_lexer": "ipython3",
   "version": "3.9.12"
  }
 },
 "nbformat": 4,
 "nbformat_minor": 5
}
