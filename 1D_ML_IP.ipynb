{
 "cells": [
  {
   "cell_type": "code",
   "execution_count": 385,
   "id": "6fa4f740",
   "metadata": {},
   "outputs": [],
   "source": [
    "import dolfin as dl\n",
    "import matplotlib.pyplot as plt\n",
    "%matplotlib inline\n",
    "import numpy as np\n",
    "\n",
    "import scipy.integrate as si\n",
    "import scipy.optimize as so\n",
    "\n",
    "import torch\n",
    "import torch.nn as nn\n",
    "import torch.nn.functional as F\n",
    "\n",
    "np.random.seed(2)"
   ]
  },
  {
   "cell_type": "markdown",
   "id": "f2de95e2",
   "metadata": {},
   "source": [
    "# Create the Network"
   ]
  },
  {
   "cell_type": "code",
   "execution_count": 386,
   "id": "8fea3691",
   "metadata": {},
   "outputs": [],
   "source": [
    "class NN(nn.Module):\n",
    "    def __init__(self):\n",
    "        super(NN,self).__init__()\n",
    "        self.fc1 = nn.Linear(1, 3)\n",
    "        self.fc2 = nn.Linear(3, 1)\n",
    "        self.apply(self._init_weights)\n",
    "        \n",
    "    def _init_weights(self, module):\n",
    "        if isinstance(module, nn.Linear):\n",
    "            module.weight.data.uniform_()\n",
    "            if module.bias is not None:\n",
    "                module.bias.data.zero_()\n",
    "\n",
    "        \n",
    "    def forward(self, x):\n",
    "        x = torch.tensor([x])\n",
    "        x = self.fc1(x)\n",
    "        x = F.relu(x)\n",
    "        x = self.fc2(x)\n",
    "        return x.item()\n",
    "    \n",
    "    def vector_eval(self, x, m):\n",
    "        \n",
    "        if type(x) is not list:\n",
    "            x = x.tolist()\n",
    "        \n",
    "        i = 0\n",
    "        for xi in x:\n",
    "            m[i] = self.forward(xi)\n",
    "            i += 1"
   ]
  },
  {
   "cell_type": "markdown",
   "id": "1f478057",
   "metadata": {},
   "source": [
    "# Testing model"
   ]
  },
  {
   "cell_type": "raw",
   "id": "b375afc9",
   "metadata": {},
   "source": [
    "model = NN()\n",
    "x = [1.,2.]\n",
    "m = [1.,2.]\n",
    "model.vector_eval(x,m)\n",
    "print(m)\n",
    "#print(model.state_dict())"
   ]
  },
  {
   "cell_type": "markdown",
   "id": "c4f988f4",
   "metadata": {},
   "source": [
    "# Set device"
   ]
  },
  {
   "cell_type": "code",
   "execution_count": 387,
   "id": "2ee7e04d",
   "metadata": {},
   "outputs": [],
   "source": [
    "device = torch.device('cuda' if torch.cuda.is_available() else 'cpu')"
   ]
  },
  {
   "cell_type": "markdown",
   "id": "9771c394",
   "metadata": {},
   "source": [
    "# Creating component needed for model"
   ]
  },
  {
   "cell_type": "code",
   "execution_count": 388,
   "id": "1b70c2a5",
   "metadata": {},
   "outputs": [
    {
     "data": {
      "image/png": "[encoded data removed]",
      "text/plain": [
       "<Figure size 432x288 with 1 Axes>"
      ]
     },
     "metadata": {
      "needs_background": "light"
     },
     "output_type": "display_data"
    }
   ],
   "source": [
    "# number of elements for training and testing data\n",
    "n_train = 50\n",
    "n_test  = 101\n",
    "\n",
    "# Create mesh for training and testing data\n",
    "mesh_train = dl.UnitIntervalMesh(n_train)\n",
    "mesh_test = dl.UnitIntervalMesh(n_test)\n",
    "\n",
    "# Create vector version of mesh\n",
    "mesh_vec = np.linspace(0,1,n_train)\n",
    "\n",
    "# Define the function space\n",
    "Vh = dl.FunctionSpace(mesh_train, 'Lagrange', 1)\n",
    "\n",
    "# Show the mesh\n",
    "dl.plot(mesh_train)\n",
    "plt.show()\n"
   ]
  },
  {
   "cell_type": "markdown",
   "id": "43f0ac95",
   "metadata": {},
   "source": [
    "# Boundary information"
   ]
  },
  {
   "cell_type": "code",
   "execution_count": 389,
   "id": "e900e9ca",
   "metadata": {},
   "outputs": [],
   "source": [
    "def ud_boundary(x, on_boundary):\n",
    "    return on_boundary\n",
    "\n",
    "# Define boundary conditions\n",
    "ud = dl.Constant('0.0')\n",
    "bc = dl.DirichletBC(Vh, ud, ud_boundary)\n",
    "\n"
   ]
  },
  {
   "cell_type": "markdown",
   "id": "dde4c2b9",
   "metadata": {},
   "source": [
    "# FEM model\n"
   ]
  },
  {
   "cell_type": "code",
   "execution_count": 400,
   "id": "7cf984d1",
   "metadata": {},
   "outputs": [],
   "source": [
    "class FEM_function:\n",
    "    def __init__(self, Vh, mesh, bc):\n",
    "        self.Vh = Vh\n",
    "        self.coords = np.array(mesh_train.coordinates()).tolist()\n",
    "        self.bc = bc\n",
    "        \n",
    "        # Define variational problem\n",
    "        self.uh = dl.TrialFunction(Vh)\n",
    "        self.vh = dl.TestFunction(Vh)\n",
    "        self.M = dl.assemble( dl.inner(self.uh, self.vh)*dl.dx(self.Vh) )\n",
    "        \n",
    "        self.m_vector = dl.Vector()\n",
    "        self.u = dl.Vector()\n",
    "        self.p = dl.Vector()\n",
    "        self.M.init_vector(self.m_vector, 0)\n",
    "        self.M.init_vector(self.u, 0)\n",
    "        self.M.init_vector(self.p, 0)\n",
    "        \n",
    "        self.ud = None\n",
    "        self.m_fun = None\n",
    "        \n",
    "    def forward_data(self, m, f_expr, noise_lvl, add_noise = False):\n",
    "        Kform = m * dl.inner(dl.grad(self.uh), dl.grad(self.vh))*dl.dx(self.Vh)\n",
    "        K, self.f = dl.assemble_system(Kform, f_expr*self.vh*dl.dx(self.Vh), self.bc)\n",
    "        solver = dl.LUSolver()\n",
    "        solver.set_operator(K)\n",
    "        \n",
    "        solver.solve(self.u, self.f)\n",
    "        \n",
    "        self.ud = dl.Vector()\n",
    "        self.M.init_vector(self.ud, 0)        \n",
    "        self.ud.axpy(1.,self.u)\n",
    "        \n",
    "        if add_noise is not False:\n",
    "            uL2 = dl.norm(self.u, 'L2')\n",
    "            noise = dl.Vector()\n",
    "            M.init_vector(noise, 0)   \n",
    "            noise.set_local( noise_lvl * uL2 *np.random.randn(Vh.dim()))\n",
    "            self.ud.axpy(1.,noise)\n",
    "        \n",
    "        return self.u, self.ud\n",
    "    \n",
    "    def extract_m(self, model):\n",
    "        model.vector_eval(self.coords,self.m_vector)\n",
    "        return dl.Function(self.Vh, self.m_vector)\n",
    "\n",
    "    def update_Systems(self, model):\n",
    "        self.m_fun = self.extract_m(model)\n",
    "        Kform   = self.m_fun * dl.inner(dl.grad(self.uh), dl.grad(self.vh))*dl.dx(self.Vh)\n",
    "        Kformt  = self.m_fun * dl.inner(dl.grad(self.vh), dl.grad(self.uh))*dl.dx(self.Vh)\n",
    "        \n",
    "        self.K, _ = dl.assemble_system(Kform, dl.Constant(0.)*self.vh*dl.dx(self.Vh), self.bc)\n",
    "        self.Kt, _ = dl.assemble_system(Kformt, dl.Constant(0.)*self.vh*dl.dx(self.Vh), self.bc)\n",
    "        \n",
    "        self.solver = dl.LUSolver()\n",
    "        self.solver.set_operator(self.K)\n",
    "        self.solvert = dl.LUSolver()\n",
    "        self.solvert.set_operator(self.Kt)\n",
    "       \n",
    "    def forward(self, model):\n",
    "        self.update_Systems(model)\n",
    "        \n",
    "        self.solver.solve(self.u,self.f)\n",
    "        \n",
    "        return self.u\n",
    "        \n",
    "    def adjoint(self):\n",
    "        \n",
    "        rhs = dl.Vector()\n",
    "        self.M.init_vector(rhs, 0)\n",
    "        rhs.axpy(-1., self.M * (self.u - self.ud))\n",
    "        \n",
    "        self.solver.solve(self.p, rhs)\n",
    "        \n",
    "        return self.p\n",
    "    \n",
    "    def grad(self, model):\n",
    "        _ = self.forward(model)\n",
    "        _ = self.adjoint()\n",
    "        \n",
    "        u_fun = dl.Function(self.Vh, self.u)\n",
    "        Fm = dl.assemble(dl.inner(dl.grad(u_fun), dl.grad(self.vh))*dl.dx(self.Vh))\n",
    "        Jm = dl.assemble(dl.inner(dl.Constant(0.), dl.Constant(0.))*dl.dx(self.Vh))\n",
    "        \n",
    "        return np.inner(self.p, Fm) + Jm"
   ]
  },
  {
   "cell_type": "markdown",
   "id": "dd494fc5",
   "metadata": {},
   "source": [
    "# Create data"
   ]
  },
  {
   "cell_type": "code",
   "execution_count": 404,
   "id": "038310b7",
   "metadata": {},
   "outputs": [
    {
     "data": {
      "image/png": "[encoded data removed]",
      "text/plain": [
       "<Figure size 432x288 with 1 Axes>"
      ]
     },
     "metadata": {
      "needs_background": "light"
     },
     "output_type": "display_data"
    },
    {
     "data": {
      "image/png": "[encoded data removed]",
      "text/plain": [
       "<Figure size 432x288 with 1 Axes>"
      ]
     },
     "metadata": {
      "needs_background": "light"
     },
     "output_type": "display_data"
    },
    {
     "name": "stdout",
     "output_type": "stream",
     "text": [
      "9.867612458334422\n"
     ]
    }
   ],
   "source": [
    "noise_lvl = 0.02\n",
    "\n",
    "# True m\n",
    "m_true = dl.Constant(1.)\n",
    "mx = dl.Constant(0.)\n",
    "\n",
    "# True solution and derivatives\n",
    "utrue = dl.Expression('sin(2*pi*x[0]) * sin(2*pi*x[0])', degree=3)\n",
    "ux = dl.Expression('4 * pi * sin(2*pi*x[0]) * cos(2*pi*x[0])', degree=3)\n",
    "uxx = dl.Expression('-8*pi*pi*( sin(2*pi*x[0]) * sin(2*pi*x[0]) - cos(2*pi*x[0]) * cos(2*pi*x[0]) )', degree=3)\n",
    "\n",
    "f = -mx*ux - m*uxx\n",
    "\n",
    "FEM_model = FEM_function(Vh, mesh = mesh_train, bc = bc)\n",
    "\n",
    "uapprox, data = FEM_model.forward_data(m_true, f, noise_lvl, add_noise=False)\n",
    "uapprox = dl.Function(Vh, uapprox)\n",
    "data = dl.Function(Vh, data)\n",
    "\n",
    "dl.plot(uapprox)\n",
    "plt.show()\n",
    "dl.plot(data)\n",
    "plt.show()\n",
    "\n",
    "print(FEM_model.grad(model))\n"
   ]
  },
  {
   "cell_type": "code",
   "execution_count": 407,
   "id": "0a98f508",
   "metadata": {},
   "outputs": [
    {
     "name": "stdout",
     "output_type": "stream",
     "text": [
      "True\n"
     ]
    },
    {
     "data": {
      "image/png": "[encoded data removed]",
      "text/plain": [
       "<Figure size 432x288 with 1 Axes>"
      ]
     },
     "metadata": {
      "needs_background": "light"
     },
     "output_type": "display_data"
    },
    {
     "data": {
      "image/png": "[encoded data removed]",
      "text/plain": [
       "<Figure size 432x288 with 1 Axes>"
      ]
     },
     "metadata": {
      "needs_background": "light"
     },
     "output_type": "display_data"
    }
   ],
   "source": [
    "model = NN()\n",
    "FEM_model.grad(model)\n",
    "\n",
    "dl.plot(dl.Function(Vh, FEM_model.forward(model)))\n",
    "plt.show()\n",
    "dl.plot(FEM_model.m_fun)\n",
    "plt.show()"
   ]
  },
  {
   "cell_type": "markdown",
   "id": "dbff1552",
   "metadata": {},
   "source": [
    "# Loss and optimizer"
   ]
  },
  {
   "cell_type": "code",
   "execution_count": 393,
   "id": "4662297b",
   "metadata": {},
   "outputs": [
    {
     "ename": "NameError",
     "evalue": "name 'objSP' is not defined",
     "output_type": "error",
     "traceback": [
      "\u001b[0;31m---------------------------------------------------------------------------\u001b[0m",
      "\u001b[0;31mNameError\u001b[0m                                 Traceback (most recent call last)",
      "Input \u001b[0;32mIn [393]\u001b[0m, in \u001b[0;36m<cell line: 2>\u001b[0;34m()\u001b[0m\n\u001b[1;32m      1\u001b[0m \u001b[38;5;66;03m# trust region optimizer with SR1 update\u001b[39;00m\n\u001b[0;32m----> 2\u001b[0m res \u001b[38;5;241m=\u001b[39m so\u001b[38;5;241m.\u001b[39mminimize(fun\u001b[38;5;241m=\u001b[39m\u001b[43mobjSP\u001b[49m, jac\u001b[38;5;241m=\u001b[39mgradSP, x0\u001b[38;5;241m=\u001b[39mmodel\u001b[38;5;241m.\u001b[39mparameters(), method\u001b[38;5;241m=\u001b[39m\u001b[38;5;124m'\u001b[39m\u001b[38;5;124mBFGS\u001b[39m\u001b[38;5;124m'\u001b[39m, \n\u001b[1;32m      3\u001b[0m                   options\u001b[38;5;241m=\u001b[39m{\u001b[38;5;124m'\u001b[39m\u001b[38;5;124mgtol\u001b[39m\u001b[38;5;124m'\u001b[39m: \u001b[38;5;241m1e-6\u001b[39m, \u001b[38;5;124m'\u001b[39m\u001b[38;5;124mdisp\u001b[39m\u001b[38;5;124m'\u001b[39m: \u001b[38;5;28;01mTrue\u001b[39;00m})\n",
      "\u001b[0;31mNameError\u001b[0m: name 'objSP' is not defined"
     ]
    }
   ],
   "source": [
    "# trust region optimizer with SR1 update\n",
    "res = so.minimize(fun=objSP, jac=gradSP, x0=model.parameters(), method='BFGS', \n",
    "                  options={'gtol': 1e-6, 'disp': True})"
   ]
  },
  {
   "cell_type": "markdown",
   "id": "81e452b8",
   "metadata": {},
   "source": [
    "# Train model"
   ]
  },
  {
   "cell_type": "code",
   "execution_count": 323,
   "id": "31d64531",
   "metadata": {},
   "outputs": [],
   "source": [
    "a = np.array([1,1]).tolist()\n",
    "if type(a) is not list:\n",
    "    print(type(a))"
   ]
  },
  {
   "cell_type": "code",
   "execution_count": null,
   "id": "9f328d0a",
   "metadata": {},
   "outputs": [],
   "source": []
  }
 ],
 "metadata": {
  "kernelspec": {
   "display_name": "Python 3 (ipykernel)",
   "language": "python",
   "name": "python3"
  },
  "language_info": {
   "codemirror_mode": {
    "name": "ipython",
    "version": 3
   },
   "file_extension": ".py",
   "mimetype": "text/x-python",
   "name": "python",
   "nbconvert_exporter": "python",
   "pygments_lexer": "ipython3",
   "version": "3.10.4"
  }
 },
 "nbformat": 4,
 "nbformat_minor": 5
}
