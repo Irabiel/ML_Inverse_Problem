{
 "cells": [
  {
   "cell_type": "code",
   "execution_count": 1,
   "id": "6fa4f740",
   "metadata": {},
   "outputs": [],
   "source": [
    "import dolfin as dl\n",
    "import matplotlib.pyplot as plt\n",
    "%matplotlib inline\n",
    "import numpy as np\n",
    "\n",
    "import scipy.integrate as si\n",
    "import scipy.optimize as so\n",
    "\n",
    "import torch\n",
    "import torch.nn as nn\n",
    "import torch.nn.functional as F"
   ]
  },
  {
   "cell_type": "markdown",
   "id": "f2de95e2",
   "metadata": {},
   "source": [
    "# Create the Network"
   ]
  },
  {
   "cell_type": "code",
   "execution_count": 39,
   "id": "8fea3691",
   "metadata": {},
   "outputs": [],
   "source": [
    "class NN(nn.Module):\n",
    "    def __init__(self):\n",
    "        super(NN,self).__init__()\n",
    "        self.fc1 = nn.Linear(1, 3)\n",
    "        self.fc2 = nn.Linear(3, 1)\n",
    "        self.apply(self._init_weights)\n",
    "        \n",
    "    def _init_weights(self, module):\n",
    "        if isinstance(module, nn.Linear):\n",
    "            module.weight.data.uniform_()\n",
    "            if module.bias is not None:\n",
    "                module.bias.data.zero_()\n",
    "\n",
    "        \n",
    "    def forward(self, x):\n",
    "        x = torch.tensor([x])\n",
    "        x = self.fc1(x)\n",
    "        x = F.relu(x)\n",
    "        x = self.fc2(x)\n",
    "        return x.item()\n",
    "    \n",
    "    def vector_eval(self, x, m):\n",
    "        i = 0\n",
    "        for xi in x:\n",
    "            m[i] = self.forward(xi)\n",
    "            i += 1"
   ]
  },
  {
   "cell_type": "markdown",
   "id": "44750830",
   "metadata": {},
   "source": [
    "# Testing model"
   ]
  },
  {
   "cell_type": "raw",
   "id": "d00ee7d5",
   "metadata": {},
   "source": [
    "model = NN()\n",
    "x = [1.,2.]\n",
    "m = [1.,2.]\n",
    "model.vector_eval(x,m)\n",
    "print(m)\n",
    "#print(model.state_dict())"
   ]
  },
  {
   "cell_type": "markdown",
   "id": "666d321d",
   "metadata": {},
   "source": [
    "# Set device"
   ]
  },
  {
   "cell_type": "code",
   "execution_count": 30,
   "id": "be7b750a",
   "metadata": {},
   "outputs": [],
   "source": [
    "device = torch.device('cuda' if torch.cuda.is_available() else 'cpu')"
   ]
  },
  {
   "cell_type": "markdown",
   "id": "693e119d",
   "metadata": {},
   "source": [
    "# Creating component needed for model"
   ]
  },
  {
   "cell_type": "code",
   "execution_count": 205,
   "id": "1b70c2a5",
   "metadata": {},
   "outputs": [
    {
     "data": {
      "image/png": "[encoded data removed]",
      "text/plain": [
       "<Figure size 432x288 with 1 Axes>"
      ]
     },
     "metadata": {
      "needs_background": "light"
     },
     "output_type": "display_data"
    }
   ],
   "source": [
    "# number of elements for training and testing data\n",
    "n_train = 50\n",
    "n_test  = 101\n",
    "\n",
    "# Create mesh for training and testing data\n",
    "mesh_train = dl.UnitIntervalMesh(n_train)\n",
    "mesh_test = dl.UnitIntervalMesh(n_test)\n",
    "\n",
    "# Create vector version of mesh\n",
    "mesh_vec = np.linspace(0,1,n_train)\n",
    "\n",
    "# Define the function space\n",
    "Vh = dl.FunctionSpace(mesh_train, 'Lagrange', 1)\n",
    "\n",
    "# Show the mesh\n",
    "dl.plot(mesh_train)\n",
    "plt.show()\n"
   ]
  },
  {
   "cell_type": "code",
   "execution_count": 217,
   "id": "e900e9ca",
   "metadata": {},
   "outputs": [],
   "source": [
    "def ud_boundary(x, on_boundary):\n",
    "    return on_boundary\n",
    "\n",
    "# Define boundary conditions\n",
    "ud = dl.Constant('0.0')\n",
    "bc = dl.DirichletBC(Vh, ud, ud_boundary)\n",
    "\n"
   ]
  },
  {
   "cell_type": "code",
   "execution_count": 224,
   "id": "1cacf86f",
   "metadata": {},
   "outputs": [],
   "source": [
    "class FEM_function:\n",
    "    def __init__(self, Vh, vec_mesh, bc):\n",
    "        self.Vh = Vh\n",
    "        self.vec_mesh = vec_mesh\n",
    "        self.bc = bc\n",
    "        \n",
    "        # Define variational problem\n",
    "        self.uh = dl.TrialFunction(Vh)\n",
    "        self.vh = dl.TestFunction(Vh)\n",
    "        M = dl.assemble(dl.inner(self.uh, self.vh)*dl.dx(self.Vh))\n",
    "        \n",
    "        self.m_vector = dl.Vector()\n",
    "        self.u = dl.Vector()\n",
    "        self.p = dl.Vector()\n",
    "        M.init_vector(self.m_vector, 0)\n",
    "        M.init_vector(self.u, 0)\n",
    "        M.init_vector(self.p, 0)\n",
    "        \n",
    "        self.ud = None\n",
    "        \n",
    "    \n",
    "    def extract_m(self, model):\n",
    "        model.extract_m(self.vec_mesh,self.m_vector)\n",
    "        return dl.Function(self.Vh, self.m_vector)\n",
    "\n",
    "    def update_Systems(self, model):\n",
    "        m_fun = self.extract_m(model)\n",
    "        Kform  = m_fun * dl.inner(dl.grad(self.uh), dl.grad(self.vh))*dl.dx(self.Vh)\n",
    "        Kformt  = m_fun * dl.inner(dl.grad(self.vh), dl.grad(self.uh))*dl.dx(self.Vh)\n",
    "        \n",
    "        self.K = dl.assemble(Kform)\n",
    "        self.Kt = dl.assemble(Kformt)\n",
    "        \n",
    "        self.solver = dl.LUSolver()\n",
    "        self.solver.set_operator(self.K)\n",
    "        self.solvert = dl.LUSolver()\n",
    "        self.solvert.set_operator(self.Kt)\n",
    "        \n",
    "    def forward_data(self, m, f_expr, noise_lvl):\n",
    "        Kform = m * dl.inner(dl.grad(self.uh), dl.grad(self.vh))*dl.dx(self.Vh)\n",
    "        K, self.f = dl.assemble_system(Kform, f_expr*self.vh*dl.dx(self.Vh), bc)\n",
    "        solver = dl.LUSolver()\n",
    "        solver.set_operator(K)\n",
    "        \n",
    "        solver.solve(self.u, self.f)\n",
    "        \n",
    "        self.ud = dl.Vector()\n",
    "        M.init_vector(self.ud, 0)        \n",
    "        self.ud.axpy(1.,self.u)\n",
    "        uL2 = dl.norm(self.u, 'L2')\n",
    "        noise = dl.Vector()\n",
    "        M.init_vector(noise, 0)   \n",
    "        noise.set_local( noise_lvl * uL2 *np.random.randn(Vh.dim()))\n",
    "        self.ud.axpy(1.,noise)\n",
    "        \n",
    "        return self.u\n",
    "    \n",
    "    def forward(self, model):\n",
    "        self.update_Systems(model)\n",
    "        \n",
    "        rhs = dl.Vector()\n",
    "        self.M.init_vector(rhs, 0)\n",
    "        \n",
    "        self.solver.solve(self.u,rhs)\n",
    "        \n",
    "        return self.u\n",
    "        \n",
    "    def adjoint(self):\n",
    "        \n",
    "        rhs = dl.Vector()\n",
    "        self.M.init_vector(rhs, 0)\n",
    "        rhs = -self.M * (self.u - self.ud)\n",
    "        \n",
    "        self.solver.solve(self.p, rhs)\n",
    "        \n",
    "        return self.p\n",
    "    \n",
    "    def grad(self, model):\n",
    "        _ = self.forward(model)\n",
    "        _ = self.adjoint()\n",
    "        \n",
    "        u_fun = dl.Function(self.Vh, self.u)\n",
    "        Fm = dl.inner(dl.grad(u_fun), dl.grad(self.vh))*dl.dx(self.Vh)\n",
    "        Jm = dl.inner(dl.Constant(0.), dl.Constant(0.))*dl.dx(self.Vh)\n",
    "        \n",
    "        return np.inner(self.p, Fm) + Jm"
   ]
  },
  {
   "cell_type": "markdown",
   "id": "b81f1e2c",
   "metadata": {},
   "source": [
    "# Create data"
   ]
  },
  {
   "cell_type": "code",
   "execution_count": 225,
   "id": "177ea4d5",
   "metadata": {},
   "outputs": [
    {
     "data": {
      "image/png": "[encoded data removed]",
      "text/plain": [
       "<Figure size 432x288 with 1 Axes>"
      ]
     },
     "metadata": {
      "needs_background": "light"
     },
     "output_type": "display_data"
    }
   ],
   "source": [
    "noise_lvl = 0.02\n",
    "\n",
    "# True m\n",
    "m_true = dl.Constant(1.)\n",
    "mx = dl.Constant(0.)\n",
    "\n",
    "# True solution and derivatives\n",
    "utrue = dl.Expression('sin(2*pi*x[0]) * sin(2*pi*x[0])', degree=3)\n",
    "ux = dl.Expression('4 * pi * sin(2*pi*x[0]) * cos(2*pi*x[0])', degree=3)\n",
    "uxx = dl.Expression('-8*pi*pi*( sin(2*pi*x[0]) * sin(2*pi*x[0]) - cos(2*pi*x[0]) * cos(2*pi*x[0]) )', degree=3)\n",
    "\n",
    "f = -mx*ux - m*uxx\n",
    "\n",
    "FEM_model = FEM_function(Vh, vec_mesh = mesh_vec, bc = bc)\n",
    "data = dl.Function(Vh, FEM_model.forward_data(m_true, f, noise_lvl))\n",
    "\n",
    "dl.plot(data)\n",
    "plt.show()\n"
   ]
  },
  {
   "cell_type": "markdown",
   "id": "946be0c5",
   "metadata": {},
   "source": [
    "# Loss and optimizer"
   ]
  },
  {
   "cell_type": "code",
   "execution_count": null,
   "id": "4662297b",
   "metadata": {},
   "outputs": [],
   "source": [
    "# trust region optimizer with SR1 update\n",
    "res = so.minimize(fun=objSP, jac=gradSP, x0=model.parameters(), method='BFGS', \n",
    "                  options={'gtol': 1e-6, 'disp': True})"
   ]
  },
  {
   "cell_type": "markdown",
   "id": "ccd71954",
   "metadata": {},
   "source": [
    "# Train model"
   ]
  },
  {
   "cell_type": "code",
   "execution_count": null,
   "id": "b106c70c",
   "metadata": {},
   "outputs": [],
   "source": []
  }
 ],
 "metadata": {
  "kernelspec": {
   "display_name": "Python 3 (ipykernel)",
   "language": "python",
   "name": "python3"
  },
  "language_info": {
   "codemirror_mode": {
    "name": "ipython",
    "version": 3
   },
   "file_extension": ".py",
   "mimetype": "text/x-python",
   "name": "python",
   "nbconvert_exporter": "python",
   "pygments_lexer": "ipython3",
   "version": "3.10.4"
  }
 },
 "nbformat": 4,
 "nbformat_minor": 5
}
