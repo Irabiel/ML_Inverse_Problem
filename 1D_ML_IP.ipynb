{
 "cells": [
  {
   "cell_type": "code",
   "execution_count": 2,
   "id": "6fa4f740",
   "metadata": {},
   "outputs": [],
   "source": [
    "import dolfin as dl\n",
    "import matplotlib.pyplot as plt\n",
    "%matplotlib inline\n",
    "import numpy as np\n",
    "\n",
    "import scipy.integrate as si\n",
    "import scipy.optimize as so\n",
    "\n",
    "import torch\n",
    "import torch.nn as nn\n",
    "import torch.nn.functional as F"
   ]
  },
  {
   "cell_type": "code",
   "execution_count": 9,
   "id": "1b70c2a5",
   "metadata": {},
   "outputs": [
    {
     "data": {
      "image/png": "[encoded data removed]",
      "text/plain": [
       "<Figure size 432x288 with 1 Axes>"
      ]
     },
     "metadata": {
      "needs_background": "light"
     },
     "output_type": "display_data"
    }
   ],
   "source": [
    "# number of elements\n",
    "n = 101\n",
    "\n",
    "# degree of finite element basis functions\n",
    "# 1-represents piecewise linear basis functions\n",
    "# 2-represents piecewise quadratic basis functions\n",
    "d = 1\n",
    "\n",
    "# Create mesh and define function space\n",
    "mesh = dl.UnitIntervalMesh(n)\n",
    "\n",
    "# Define the function space\n",
    "Vh = dl.FunctionSpace(mesh, 'Lagrange', d)\n",
    "\n",
    "# Define the exact solution\n",
    "u_true = dl.Expression('0.5*x[0]*(1.0-x[0])', degree=2)\n",
    "\n",
    "# Show the mesh\n",
    "dl.plot(mesh)\n",
    "plt.show()"
   ]
  },
  {
   "cell_type": "code",
   "execution_count": null,
   "id": "e900e9ca",
   "metadata": {},
   "outputs": [],
   "source": [
    "def ud_boundary(x, on_boundary):\n",
    "    return on_boundary\n",
    "\n",
    "# Define boundary conditions\n",
    "ud = dl.Constant('0.0')\n",
    "bc = dl.DirichletBC(Vh, ud, ud_boundary)\n",
    "\n",
    "\n",
    "# Define variational problem\n",
    "uh = dl.TrialFunction(Vh)\n",
    "vh = dl.TestFunction(Vh)\n",
    "f = dl.Constant(1.0)\n",
    "a = dl.inner(dl.grad(uh), dl.grad(vh))*dl.dx\n",
    "L = f*vh*dl.dx"
   ]
  },
  {
   "cell_type": "code",
   "execution_count": 3,
   "id": "7669ee4a",
   "metadata": {},
   "outputs": [
    {
     "name": "stdout",
     "output_type": "stream",
     "text": [
      "10\n"
     ]
    }
   ],
   "source": [
    "# now pretend we don't know the vector field but we want to learn it\n",
    "# set up a neural network model for f\n",
    "nlayers = 2\n",
    "\n",
    "# units per hidden layer\n",
    "uphl = 3\n",
    "\n",
    "# dimension of vector field\n",
    "vfd = 1\n",
    "\n",
    "# set up neural network parameters\n",
    "layerwidths = [vfd,uphl,vfd]\n",
    "numparams = 0\n",
    "numweights = 0\n",
    "numbiases = 0\n",
    "for j in range(nlayers):\n",
    "    numparams += layerwidths[j]*layerwidths[j+1] + layerwidths[j+1]\n",
    "    numweights += layerwidths[j]*layerwidths[j+1]\n",
    "    numbiases += layerwidths[j+1]\n",
    "\n",
    "# print out total number of parameters\n",
    "print(numparams)\n",
    "\n",
    "# definition of actual neural network function\n",
    "def neuralf(x, theta):\n",
    "    filt = []\n",
    "    si = 0\n",
    "    ei = layerwidths[0]*layerwidths[1]\n",
    "    filt.append( theta[si:ei].reshape((layerwidths[0],layerwidths[1])) )\n",
    "    si += layerwidths[0]*layerwidths[1]\n",
    "    ei += layerwidths[1]*layerwidths[2]\n",
    "    filt.append( theta[si:ei].reshape((layerwidths[1],layerwidths[2])) )\n",
    "    bias = []\n",
    "    si += layerwidths[1]*layerwidths[2]\n",
    "    ei += layerwidths[1]\n",
    "    bias.append( theta[si:ei] )\n",
    "    si += layerwidths[1]\n",
    "    ei += layerwidths[2]\n",
    "    bias.append( theta[si:ei] )\n",
    "    inplyr = x\n",
    "    h1 = nn.SELU( inplyr @ filt[0] + bias[0] )\n",
    "    h2 = h1 @ filt[1] + bias[1] \n",
    "    return h2"
   ]
  },
  {
   "cell_type": "code",
   "execution_count": 7,
   "id": "e274124e",
   "metadata": {},
   "outputs": [],
   "source": [
    "# random initializer\n",
    "def glorotinit():\n",
    "    theta = []\n",
    "    theta.append( np.random.uniform(0,1,size=layerwidths[0]*layerwidths[1]) )\n",
    "    theta.append( np.random.uniform(0,1,size=layerwidths[1]*layerwidths[2]) )\n",
    "    theta.append( np.zeros(numbiases) )\n",
    "    theta = np.concatenate(theta)\n",
    "    return theta\n",
    "\n",
    "theta0 = glorotinit()"
   ]
  },
  {
   "cell_type": "code",
   "execution_count": 8,
   "id": "ffa01df6",
   "metadata": {},
   "outputs": [
    {
     "data": {
      "text/plain": [
       "array([0.61750599, 0.71664432, 0.99073968, 0.11212256, 0.71447298,\n",
       "       0.19448867, 0.        , 0.        , 0.        , 0.        ])"
      ]
     },
     "execution_count": 8,
     "metadata": {},
     "output_type": "execute_result"
    }
   ],
   "source": [
    "theta0"
   ]
  },
  {
   "cell_type": "code",
   "execution_count": null,
   "id": "4662297b",
   "metadata": {},
   "outputs": [],
   "source": [
    "# trust region optimizer with SR1 update\n",
    "res = so.minimize(fun=objSP, jac=gradSP, x0=theta0, method='BFGS', \n",
    "                  options={'gtol': 1e-6, 'disp': True})"
   ]
  }
 ],
 "metadata": {
  "kernelspec": {
   "display_name": "Python 3 (ipykernel)",
   "language": "python",
   "name": "python3"
  },
  "language_info": {
   "codemirror_mode": {
    "name": "ipython",
    "version": 3
   },
   "file_extension": ".py",
   "mimetype": "text/x-python",
   "name": "python",
   "nbconvert_exporter": "python",
   "pygments_lexer": "ipython3",
   "version": "3.9.12"
  }
 },
 "nbformat": 4,
 "nbformat_minor": 5
}
