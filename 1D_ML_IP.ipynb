{
 "cells": [
  {
   "cell_type": "code",
   "execution_count": 1,
   "id": "6fa4f740",
   "metadata": {},
   "outputs": [
    {
     "data": {
      "text/plain": [
       "<torch._C.Generator at 0x7f96f9315850>"
      ]
     },
     "execution_count": 1,
     "metadata": {},
     "output_type": "execute_result"
    }
   ],
   "source": [
    "import dolfin as dl\n",
    "import matplotlib.pyplot as plt\n",
    "%matplotlib inline\n",
    "import numpy as np\n",
    "\n",
    "from scipy.optimize import minimize\n",
    "\n",
    "import torch\n",
    "import torch.nn as nn\n",
    "import torch.optim as optim\n",
    "import torch.nn.functional as F\n",
    "from torch.autograd import Variable\n",
    "\n",
    "np.random.seed(2)\n",
    "torch.manual_seed(2)"
   ]
  },
  {
   "cell_type": "markdown",
   "id": "f2de95e2",
   "metadata": {},
   "source": [
    "# Create the Network"
   ]
  },
  {
   "cell_type": "code",
   "execution_count": 2,
   "id": "8fea3691",
   "metadata": {},
   "outputs": [],
   "source": [
    "class NN(nn.Module):\n",
    "    def __init__(self):\n",
    "        super(NN,self).__init__()\n",
    "        self.fc1 = nn.Linear(1, 3)\n",
    "        self.fc2 = nn.Linear(3, 1)\n",
    "        self.apply(self._init_weights)\n",
    "        \n",
    "        self.fc1.weight.requires_grad = True\n",
    "        self.fc1.bias.requires_grad = True\n",
    "        self.fc2.weight.requires_grad = True\n",
    "        self.fc2.bias.requires_grad = True\n",
    "        \n",
    "    def _init_weights(self, module):\n",
    "        if isinstance(module, nn.Linear):\n",
    "            module.weight.data.uniform_()\n",
    "            if module.bias is not None:\n",
    "                module.bias.data.zero_()\n",
    "\n",
    "        \n",
    "    def forward(self, x):\n",
    "        x = self.fc1(x)\n",
    "        x = F.relu(x)\n",
    "        x = self.fc2(x)\n",
    "        return x\n",
    "    "
   ]
  },
  {
   "cell_type": "markdown",
   "id": "6b9f0d66",
   "metadata": {},
   "source": [
    "# Testing model"
   ]
  },
  {
   "cell_type": "code",
   "execution_count": 3,
   "id": "9fb75801",
   "metadata": {},
   "outputs": [],
   "source": [
    "model = NN()\n",
    "# x = torch.tensor([1.], dtype=torch.float32, requires_grad=True)\n",
    "# y = model(x).sum()\n",
    "# y.backward(torch.ones_like(y))\n",
    "# # y.backward()\n",
    "# print(model.fc1.weight.grad)\n",
    "# print(model.fc1.bias.grad)\n",
    "# print(model.fc2.weight.grad)\n",
    "# print(model.fc2.bias.grad)\n",
    "# print(x, x.grad)\n",
    "# print(y)\n",
    "\n",
    "# model.zero_grad()"
   ]
  },
  {
   "cell_type": "markdown",
   "id": "99fef73c",
   "metadata": {},
   "source": [
    "# Set device"
   ]
  },
  {
   "cell_type": "code",
   "execution_count": 4,
   "id": "cec8a4af",
   "metadata": {},
   "outputs": [],
   "source": [
    "device = torch.device('cuda' if torch.cuda.is_available() else 'cpu')"
   ]
  },
  {
   "cell_type": "markdown",
   "id": "f29934f8",
   "metadata": {},
   "source": [
    "# Creating component needed for model"
   ]
  },
  {
   "cell_type": "code",
   "execution_count": 5,
   "id": "1b70c2a5",
   "metadata": {},
   "outputs": [
    {
     "data": {
      "image/png": "[encoded data removed]",
      "text/plain": [
       "<Figure size 432x288 with 1 Axes>"
      ]
     },
     "metadata": {
      "needs_background": "light"
     },
     "output_type": "display_data"
    }
   ],
   "source": [
    "# number of elements for training and testing data\n",
    "n_train = 101\n",
    "n_test  = 50\n",
    "\n",
    "# Create mesh for training and testing data\n",
    "mesh_train = dl.UnitIntervalMesh(n_train)\n",
    "mesh_test = dl.UnitIntervalMesh(n_test)\n",
    "\n",
    "# Create vector version of mesh\n",
    "mesh_vec = np.linspace(0,1,n_train)\n",
    "\n",
    "# Define the function space\n",
    "Vh = dl.FunctionSpace(mesh_train, 'Lagrange', 1)\n",
    "\n",
    "# Show the mesh\n",
    "dl.plot(mesh_train)\n",
    "plt.show()\n",
    "\n"
   ]
  },
  {
   "cell_type": "markdown",
   "id": "d5223c46",
   "metadata": {},
   "source": [
    "# Boundary information"
   ]
  },
  {
   "cell_type": "code",
   "execution_count": 6,
   "id": "e900e9ca",
   "metadata": {},
   "outputs": [],
   "source": [
    "def boundary(x, on_boundary):\n",
    "    return on_boundary\n",
    "\n",
    "# Define boundary conditions\n",
    "ud = dl.Constant('0.0')\n",
    "bc_state = dl.DirichletBC(Vh, ud, boundary)\n",
    "bc_adj = dl.DirichletBC(Vh, dl.Constant('0.0'), boundary)\n",
    "\n"
   ]
  },
  {
   "cell_type": "markdown",
   "id": "c21dd279",
   "metadata": {},
   "source": [
    "# FEM model\n"
   ]
  },
  {
   "cell_type": "code",
   "execution_count": 21,
   "id": "d4314eaa",
   "metadata": {},
   "outputs": [],
   "source": [
    "class FEM_function:\n",
    "    def __init__(self, Vh, mesh, bc_state, bc_adj):\n",
    "        self.Vh = Vh\n",
    "        self.coords = torch.tensor(mesh_train.coordinates(), dtype=torch.float32, requires_grad=True)\n",
    "        self.bc_state = bc_state\n",
    "        self.bc_adj = bc_adj\n",
    "        \n",
    "        # Define variational problem\n",
    "        self.uh = dl.TrialFunction(Vh)\n",
    "        self.vh = dl.TestFunction(Vh)\n",
    "        self.M = dl.assemble( dl.inner(self.uh, self.vh)*dl.dx(self.Vh) )\n",
    "        \n",
    "        self.m_vector = dl.Vector()\n",
    "        self.u = dl.Vector()\n",
    "        self.p = dl.Vector()\n",
    "        self.M.init_vector(self.m_vector, 0)\n",
    "        self.M.init_vector(self.u, 0)\n",
    "        self.M.init_vector(self.p, 0)\n",
    "        \n",
    "        self.ud = None\n",
    "        self.m_fun = None\n",
    "        \n",
    "    def forward_data(self, m, f_expr, noise_lvl, add_noise = False):\n",
    "        Kform = dl.inner(m * dl.grad(self.uh), dl.grad(self.vh))*dl.dx(self.Vh)\n",
    "        self.Lform = f_expr*self.vh*dl.dx(self.Vh)\n",
    "        K, f = dl.assemble_system(Kform, self.Lform, self.bc_state)\n",
    "        \n",
    "        dl.solve(K, self.u, f)\n",
    "        \n",
    "        self.ud = dl.Vector()\n",
    "        self.M.init_vector(self.ud, 0)        \n",
    "        self.ud.axpy(1.,self.u)\n",
    "        \n",
    "        if add_noise is True:\n",
    "            uL2 = dl.norm(self.u, 'L2')\n",
    "            noise = dl.Vector()\n",
    "            M.init_vector(noise, 0)   \n",
    "            noise.set_local( noise_lvl * uL2 *np.random.randn(Vh.dim()))\n",
    "            self.ud.axpy(1.,noise)\n",
    "        \n",
    "        return self.u, self.ud\n",
    "        \n",
    "    def extract_m(self, model):\n",
    "#         print(self.coords.dtype)\n",
    "        self.m_vector.set_local(model(self.coords).detach().numpy())\n",
    "        return dl.Function(self.Vh, self.m_vector)\n",
    "\n",
    "    def calc_NN_grad(self, model):\n",
    "        x = torch.tensor([1.], dtype=torch.float32, requires_grad=True)\n",
    "        y = model(x)\n",
    "        y.backward()\n",
    "\n",
    "        gradients = np.concatenate([p.grad.view(-1).detach().numpy() for p in model.parameters()])\n",
    "\n",
    "        model.zero_grad()\n",
    "        \n",
    "        return gradients\n",
    "       \n",
    "    def forward(self, model):\n",
    "        self.m_fun = self.extract_m(model)\n",
    "        Kform   = dl.inner(self.m_fun * dl.grad(self.uh), dl.grad(self.vh))*dl.dx(self.Vh)\n",
    "        \n",
    "        self.K, f = dl.assemble_system(Kform, self.Lform, self.bc_state)\n",
    "        \n",
    "        self.solver = dl.LUSolver()\n",
    "        self.solver.set_operator(self.K)\n",
    "        \n",
    "        self.solver.solve(self.u,f)\n",
    "        \n",
    "        \n",
    "        return torch.tensor(self.u.get_local(), dtype=torch.float32, requires_grad=True)\n",
    "        \n",
    "    def adjoint(self):\n",
    "        \n",
    "        Kformt  = dl.inner(self.m_fun * dl.grad(self.vh), dl.grad(self.uh))*dl.dx(self.Vh)\n",
    "        L_adj = -dl.inner(dl.Function(self.Vh, self.u - self.ud), self.vh) * dl.dx(self.Vh)\n",
    "        Kt, rhs = dl.assemble_system(Kformt, L_adj, self.bc_adj)        \n",
    "        \n",
    "        self.solvert = dl.LUSolver()\n",
    "        self.solvert.set_operator(Kt)\n",
    "        \n",
    "        self.solvert.solve(self.p,rhs)\n",
    "        \n",
    "        return self.p\n",
    "    \n",
    "    def cost(self, model):\n",
    "        c = 0\n",
    "        _ = self.forward(model)\n",
    "        \n",
    "        c = .5 * np.inner(self.M * (self.u - self.ud),(self.u - self.ud))\n",
    "        \n",
    "        return c\n",
    "    \n",
    "    def grad(self, model):\n",
    "        _ = self.forward(model)\n",
    "        _ = self.adjoint()\n",
    "        \n",
    "        u_fun = dl.Function(self.Vh, self.u)\n",
    "#         Fm = self.K * self.u\n",
    "        Fm = dl.assemble(dl.inner(self.m_fun * dl.grad(u_fun), dl.grad(self.vh))*dl.dx(self.Vh))\n",
    "        Jm = dl.assemble(dl.inner(dl.Constant(0.), dl.Constant(0.))*dl.dx(self.Vh))\n",
    "        \n",
    "        return (np.inner(self.p, Fm) + Jm) * self.calc_NN_grad(model)"
   ]
  },
  {
   "cell_type": "markdown",
   "id": "b3ecb693",
   "metadata": {},
   "source": [
    "# Create data"
   ]
  },
  {
   "cell_type": "code",
   "execution_count": 22,
   "id": "ec5cdd63",
   "metadata": {},
   "outputs": [
    {
     "data": {
      "image/png": "[encoded data removed]",
      "text/plain": [
       "<Figure size 432x288 with 1 Axes>"
      ]
     },
     "metadata": {
      "needs_background": "light"
     },
     "output_type": "display_data"
    },
    {
     "data": {
      "image/png": "[encoded data removed]",
      "text/plain": [
       "<Figure size 432x288 with 1 Axes>"
      ]
     },
     "metadata": {
      "needs_background": "light"
     },
     "output_type": "display_data"
    }
   ],
   "source": [
    "noise_lvl = 0.02\n",
    "\n",
    "# True m\n",
    "m_true = dl.Constant(1.)\n",
    "mx = dl.Constant(0.0)\n",
    "\n",
    "# True solution and derivatives\n",
    "utrue = dl.Expression('sin(2*pi*x[0]) * sin(2*pi*x[0])', degree=3)\n",
    "ux = dl.Expression('4 * pi * sin(2*pi*x[0]) * cos(2*pi*x[0])', degree=3)\n",
    "uxx = dl.Expression('-8*pi*pi*( sin(2*pi*x[0]) * sin(2*pi*x[0]) - cos(2*pi*x[0]) * cos(2*pi*x[0]) )', degree=3)\n",
    "\n",
    "f = -mx*ux - m_true*uxx\n",
    "\n",
    "FEM_model = FEM_function(Vh, mesh = mesh_train, bc_state = bc_state, bc_adj = bc_adj)\n",
    "\n",
    "uapprox, u_noise = FEM_model.forward_data(m_true, f, noise_lvl, add_noise=False)\n",
    "data = torch.from_numpy(u_noise.get_local())\n",
    "uapprox = dl.Function(Vh, uapprox)\n",
    "u_noise = dl.Function(Vh, u_noise)\n",
    "\n",
    "dl.plot(uapprox)\n",
    "plt.show()\n",
    "dl.plot(u_noise)\n",
    "plt.show()\n",
    "\n"
   ]
  },
  {
   "cell_type": "markdown",
   "id": "b481ab3f",
   "metadata": {},
   "source": [
    "# Create an instance of the network"
   ]
  },
  {
   "cell_type": "code",
   "execution_count": 35,
   "id": "b91e8fce",
   "metadata": {},
   "outputs": [],
   "source": [
    "model = NN()\n"
   ]
  },
  {
   "cell_type": "markdown",
   "id": "ae1cd233",
   "metadata": {},
   "source": [
    "# Optimize and Training function"
   ]
  },
  {
   "cell_type": "code",
   "execution_count": 36,
   "id": "1dd3fb50",
   "metadata": {},
   "outputs": [],
   "source": [
    "# Define the training loop\n",
    "def train(params):\n",
    "    # Update the neural network weights\n",
    "    with torch.no_grad():\n",
    "        net_params = torch.tensor(params, dtype=torch.float32).reshape(-1, 1)\n",
    "        current_param_idx = 0\n",
    "        for p in model.parameters():\n",
    "            p.data = net_params[current_param_idx:current_param_idx+p.numel()].reshape(p.shape)\n",
    "            current_param_idx += p.numel()\n",
    "        \n",
    "    # Compute the predictions and loss\n",
    "    loss = FEM_model.cost(model)\n",
    "    grads = FEM_model.grad(model)\n",
    "    grads = grads.astype('float64') # convert to the correct data type\n",
    "    return loss, grads\n",
    "\n",
    "# Define the optimizer\n",
    "def optimize(params):\n",
    "    loss, grads = train(params)\n",
    "    return loss, grads\n",
    "\n"
   ]
  },
  {
   "cell_type": "markdown",
   "id": "95b8f222",
   "metadata": {},
   "source": [
    "# Train model"
   ]
  },
  {
   "cell_type": "code",
   "execution_count": null,
   "id": "0c0d003d",
   "metadata": {},
   "outputs": [
    {
     "name": "stdout",
     "output_type": "stream",
     "text": [
      "[0.06518233 0.8747525  0.8297249  0.         0.         0.\n",
      " 0.14156932 0.3217141  0.84031487 0.        ]\n"
     ]
    }
   ],
   "source": [
    "# Initialize the weight parameter and optimize it with scipy\n",
    "params0 = np.concatenate([p.view(-1).detach().numpy() for p in model.parameters()])\n",
    "bounds = [(None, None)]\n",
    "\n",
    "print(params0)\n",
    "\n",
    "for epoch in range(2000):\n",
    "    result = minimize(optimize, params0, jac=True, method='L-BFGS-B', tol = 1e-6)\n",
    "    params0 = result.x\n",
    "    \n",
    "print(params0)"
   ]
  },
  {
   "cell_type": "markdown",
   "id": "d5c09c1f",
   "metadata": {},
   "source": [
    "# Show results"
   ]
  },
  {
   "cell_type": "code",
   "execution_count": null,
   "id": "b8902e75",
   "metadata": {},
   "outputs": [],
   "source": [
    "xlen = 50\n",
    "\n",
    "x = np.linspace(0,1,xlen)\n",
    "x = x.reshape(xlen,1)\n",
    "x = torch.from_numpy(x)\n",
    "y = model(x.float())\n",
    "\n",
    "plt.plot(x.detach().numpy(), y.detach().numpy(), 'o', label='Network')\n",
    "plt.plot(x.detach().numpy(), np.ones([xlen,1]), label='True')\n",
    "plt.legend()\n",
    "plt.show()\n",
    "\n",
    "print(y)"
   ]
  },
  {
   "cell_type": "code",
   "execution_count": null,
   "id": "e5fce51e",
   "metadata": {},
   "outputs": [],
   "source": []
  }
 ],
 "metadata": {
  "kernelspec": {
   "display_name": "Python 3 (ipykernel)",
   "language": "python",
   "name": "python3"
  },
  "language_info": {
   "codemirror_mode": {
    "name": "ipython",
    "version": 3
   },
   "file_extension": ".py",
   "mimetype": "text/x-python",
   "name": "python",
   "nbconvert_exporter": "python",
   "pygments_lexer": "ipython3",
   "version": "3.10.4"
  }
 },
 "nbformat": 4,
 "nbformat_minor": 5
}
