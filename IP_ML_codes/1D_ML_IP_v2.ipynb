{
 "cells": [
  {
   "cell_type": "code",
   "execution_count": 114,
   "id": "6fa4f740",
   "metadata": {},
   "outputs": [],
   "source": [
    "import dolfin as dl\n",
    "import matplotlib.pyplot as plt\n",
    "%matplotlib inline\n",
    "import numpy as np\n",
    "\n",
    "from scipy.optimize import minimize\n",
    "\n",
    "import torch\n",
    "import torch.nn as nn\n",
    "import torch.optim as optim\n",
    "import torch.nn.functional as F\n",
    "from torch.autograd import Variable\n",
    "\n",
    "np.random.seed(2)"
   ]
  },
  {
   "cell_type": "markdown",
   "id": "f2de95e2",
   "metadata": {},
   "source": [
    "# Create the Network"
   ]
  },
  {
   "cell_type": "code",
   "execution_count": 134,
   "id": "8fea3691",
   "metadata": {},
   "outputs": [],
   "source": [
    "class NN(nn.Module):\n",
    "    def __init__(self):\n",
    "        super(NN,self).__init__()\n",
    "        self.fc1 = nn.Linear(1, 3)\n",
    "        self.fc2 = nn.Linear(3, 1)\n",
    "        self.apply(self._init_weights)\n",
    "        \n",
    "        self.fc1.weight.requires_grad = True\n",
    "        self.fc1.bias.requires_grad = True\n",
    "        self.fc2.weight.requires_grad = True\n",
    "        self.fc2.bias.requires_grad = True\n",
    "        \n",
    "    def _init_weights(self, module):\n",
    "        if isinstance(module, nn.Linear):\n",
    "            module.weight.data.uniform_()\n",
    "            if module.bias is not None:\n",
    "                module.bias.data.zero_()\n",
    "\n",
    "        \n",
    "    def forward(self, x):\n",
    "        x = torch.tensor([x])\n",
    "        x = self.fc1(x)\n",
    "        x = F.relu(x)\n",
    "        x = self.fc2(x)\n",
    "        return x.item()\n",
    "    \n",
    "    def vector_eval(self, x, m):\n",
    "        \n",
    "        if type(x) is not list:\n",
    "            x = x.tolist()\n",
    "        \n",
    "        i = 0\n",
    "        for xi in x:\n",
    "            m[i] = self.forward(xi)\n",
    "            i += 1"
   ]
  },
  {
   "cell_type": "markdown",
   "id": "6b9f0d66",
   "metadata": {},
   "source": [
    "# Testing model"
   ]
  },
  {
   "cell_type": "code",
   "execution_count": 95,
   "id": "281b2102",
   "metadata": {},
   "outputs": [
    {
     "name": "stdout",
     "output_type": "stream",
     "text": [
      "[0.8073497414588928, 1.6146994829177856]\n",
      "OrderedDict([('fc1.weight', tensor([[0.3596],\n",
      "        [0.1925],\n",
      "        [0.8592]])), ('fc1.bias', tensor([0., 0., 0.])), ('fc2.weight', tensor([[0.1043, 0.7986, 0.7171]])), ('fc2.bias', tensor([0.]))])\n"
     ]
    }
   ],
   "source": [
    "model = NN()\n",
    "x = [1.,2.]\n",
    "m = [1.,2.]\n",
    "model.vector_eval(x,m)\n",
    "print(m)\n",
    "print(model.state_dict())"
   ]
  },
  {
   "cell_type": "markdown",
   "id": "99fef73c",
   "metadata": {},
   "source": [
    "# Set device"
   ]
  },
  {
   "cell_type": "code",
   "execution_count": 19,
   "id": "cec8a4af",
   "metadata": {},
   "outputs": [],
   "source": [
    "device = torch.device('cuda' if torch.cuda.is_available() else 'cpu')"
   ]
  },
  {
   "cell_type": "markdown",
   "id": "f29934f8",
   "metadata": {},
   "source": [
    "# Creating component needed for model"
   ]
  },
  {
   "cell_type": "code",
   "execution_count": 20,
   "id": "1b70c2a5",
   "metadata": {},
   "outputs": [
    {
     "data": {
      "image/png": "[encoded data removed]",
      "text/plain": [
       "<Figure size 432x288 with 1 Axes>"
      ]
     },
     "metadata": {
      "needs_background": "light"
     },
     "output_type": "display_data"
    }
   ],
   "source": [
    "# number of elements for training and testing data\n",
    "n_train = 50\n",
    "n_test  = 101\n",
    "\n",
    "# Create mesh for training and testing data\n",
    "mesh_train = dl.UnitIntervalMesh(n_train)\n",
    "mesh_test = dl.UnitIntervalMesh(n_test)\n",
    "\n",
    "# Create vector version of mesh\n",
    "mesh_vec = np.linspace(0,1,n_train)\n",
    "\n",
    "# Define the function space\n",
    "Vh = dl.FunctionSpace(mesh_train, 'Lagrange', 1)\n",
    "\n",
    "# Show the mesh\n",
    "dl.plot(mesh_train)\n",
    "plt.show()\n"
   ]
  },
  {
   "cell_type": "markdown",
   "id": "d5223c46",
   "metadata": {},
   "source": [
    "# Boundary information"
   ]
  },
  {
   "cell_type": "code",
   "execution_count": 21,
   "id": "e900e9ca",
   "metadata": {},
   "outputs": [],
   "source": [
    "def ud_boundary(x, on_boundary):\n",
    "    return on_boundary\n",
    "\n",
    "# Define boundary conditions\n",
    "ud = dl.Constant('0.0')\n",
    "bc = dl.DirichletBC(Vh, ud, ud_boundary)\n",
    "\n"
   ]
  },
  {
   "cell_type": "markdown",
   "id": "c21dd279",
   "metadata": {},
   "source": [
    "# FEM model\n"
   ]
  },
  {
   "cell_type": "code",
   "execution_count": 128,
   "id": "d4314eaa",
   "metadata": {},
   "outputs": [],
   "source": [
    "class FEM_function:\n",
    "    def __init__(self, Vh, mesh, bc):\n",
    "        self.Vh = Vh\n",
    "        self.coords = np.array(mesh_train.coordinates()).tolist()\n",
    "        self.bc = bc\n",
    "        \n",
    "        # Define variational problem\n",
    "        self.uh = dl.TrialFunction(Vh)\n",
    "        self.vh = dl.TestFunction(Vh)\n",
    "        self.M = dl.assemble( dl.inner(self.uh, self.vh)*dl.dx(self.Vh) )\n",
    "        \n",
    "        self.m_vector = dl.Vector()\n",
    "        self.u = dl.Vector()\n",
    "        self.p = dl.Vector()\n",
    "        self.M.init_vector(self.m_vector, 0)\n",
    "        self.M.init_vector(self.u, 0)\n",
    "        self.M.init_vector(self.p, 0)\n",
    "        \n",
    "        self.ud = None\n",
    "        self.m_fun = None\n",
    "        \n",
    "    def forward_data(self, m, f_expr, noise_lvl, add_noise = False):\n",
    "        Kform = m * dl.inner(dl.grad(self.uh), dl.grad(self.vh))*dl.dx(self.Vh)\n",
    "        K, self.f = dl.assemble_system(Kform, f_expr*self.vh*dl.dx(self.Vh), self.bc)\n",
    "        solver = dl.LUSolver()\n",
    "        solver.set_operator(K)\n",
    "        \n",
    "        solver.solve(self.u, self.f)\n",
    "        \n",
    "        self.ud = dl.Vector()\n",
    "        self.M.init_vector(self.ud, 0)        \n",
    "        self.ud.axpy(1.,self.u)\n",
    "        \n",
    "        if add_noise is True:\n",
    "            uL2 = dl.norm(self.u, 'L2')\n",
    "            noise = dl.Vector()\n",
    "            M.init_vector(noise, 0)   \n",
    "            noise.set_local( noise_lvl * uL2 *np.random.randn(Vh.dim()))\n",
    "            self.ud.axpy(1.,noise)\n",
    "        \n",
    "        return self.u, self.ud\n",
    "    \n",
    "    def extract_m(self, model):\n",
    "        model.vector_eval(self.coords,self.m_vector)\n",
    "        return dl.Function(self.Vh, self.m_vector)\n",
    "\n",
    "    def update_Systems(self, model):\n",
    "        self.m_fun = self.extract_m(model)\n",
    "        Kform   = self.m_fun * dl.inner(dl.grad(self.uh), dl.grad(self.vh))*dl.dx(self.Vh)\n",
    "        Kformt  = self.m_fun * dl.inner(dl.grad(self.vh), dl.grad(self.uh))*dl.dx(self.Vh)\n",
    "        \n",
    "        self.K, _ = dl.assemble_system(Kform, dl.Constant(0.)*self.vh*dl.dx(self.Vh), self.bc)\n",
    "        self.Kt, _ = dl.assemble_system(Kformt, dl.Constant(0.)*self.vh*dl.dx(self.Vh), self.bc)\n",
    "        \n",
    "        self.solver = dl.LUSolver()\n",
    "        self.solver.set_operator(self.K)\n",
    "        self.solvert = dl.LUSolver()\n",
    "        self.solvert.set_operator(self.Kt)\n",
    "       \n",
    "    def forward(self, model):\n",
    "        self.update_Systems(model)\n",
    "        \n",
    "        self.solver.solve(self.u,self.f)\n",
    "        \n",
    "        return torch.from_numpy(self.u.get_local())\n",
    "        \n",
    "    def adjoint(self):\n",
    "        \n",
    "        rhs = dl.Vector()\n",
    "        self.M.init_vector(rhs, 0)\n",
    "        rhs.axpy(-1., self.M * (self.u - self.ud))\n",
    "        \n",
    "        self.solver.solve(self.p, rhs)\n",
    "        \n",
    "        return self.p\n",
    "    \n",
    "    def cost(self, model):\n",
    "        c = 0\n",
    "        _ = self.forward(model)\n",
    "        \n",
    "        c = .5 * np.inner(self.M * (self.u - self.ud),(self.u - self.ud))\n",
    "        \n",
    "        return c\n",
    "    \n",
    "    def grad(self, model):\n",
    "        _ = self.forward(model)\n",
    "        _ = self.adjoint()\n",
    "        \n",
    "        u_fun = dl.Function(self.Vh, self.u)\n",
    "        Fm = dl.assemble(dl.inner(dl.grad(u_fun), dl.grad(self.vh))*dl.dx(self.Vh))\n",
    "        Jm = dl.assemble(dl.inner(dl.Constant(0.), dl.Constant(0.))*dl.dx(self.Vh))\n",
    "        \n",
    "        return (np.inner(self.p, Fm) + Jm)"
   ]
  },
  {
   "cell_type": "markdown",
   "id": "b3ecb693",
   "metadata": {},
   "source": [
    "# Create data"
   ]
  },
  {
   "cell_type": "code",
   "execution_count": 159,
   "id": "ec5cdd63",
   "metadata": {},
   "outputs": [
    {
     "data": {
      "image/png": "[encoded data removed]",
      "text/plain": [
       "<Figure size 432x288 with 1 Axes>"
      ]
     },
     "metadata": {
      "needs_background": "light"
     },
     "output_type": "display_data"
    },
    {
     "data": {
      "image/png": "[encoded data removed]",
      "text/plain": [
       "<Figure size 432x288 with 1 Axes>"
      ]
     },
     "metadata": {
      "needs_background": "light"
     },
     "output_type": "display_data"
    }
   ],
   "source": [
    "noise_lvl = 0.02\n",
    "\n",
    "# True m\n",
    "m_true = dl.Constant(1.)\n",
    "mx = dl.Constant(0.0)\n",
    "\n",
    "# True solution and derivatives\n",
    "utrue = dl.Expression('sin(2*pi*x[0]) * sin(2*pi*x[0])', degree=3)\n",
    "ux = dl.Expression('4 * pi * sin(2*pi*x[0]) * cos(2*pi*x[0])', degree=3)\n",
    "uxx = dl.Expression('-8*pi*pi*( sin(2*pi*x[0]) * sin(2*pi*x[0]) - cos(2*pi*x[0]) * cos(2*pi*x[0]) )', degree=3)\n",
    "\n",
    "f = -mx*ux - m_true*uxx\n",
    "\n",
    "FEM_model = FEM_function(Vh, mesh = mesh_train, bc = bc)\n",
    "\n",
    "uapprox, data = FEM_model.forward_data(m_true, f, noise_lvl, add_noise=False)\n",
    "# data = torch.from_numpy(data.get_local())\n",
    "uapprox = dl.Function(Vh, uapprox)\n",
    "data = dl.Function(Vh, data)\n",
    "\n",
    "dl.plot(uapprox)\n",
    "plt.show()\n",
    "dl.plot(data)\n",
    "plt.show()\n",
    "\n"
   ]
  },
  {
   "cell_type": "code",
   "execution_count": 135,
   "id": "b91e8fce",
   "metadata": {},
   "outputs": [],
   "source": [
    "# Create an instance of the network\n",
    "model = NN()\n"
   ]
  },
  {
   "cell_type": "markdown",
   "id": "ae1cd233",
   "metadata": {},
   "source": [
    "# Loss and optimizer"
   ]
  },
  {
   "cell_type": "code",
   "execution_count": 131,
   "id": "4662297b",
   "metadata": {},
   "outputs": [],
   "source": [
    "learning_rate = 0.001\n",
    "\n",
    "# Define the loss function\n",
    "def loss_fn(output, target):\n",
    "    return .5 * torch.mean((output - target) ** 2)\n",
    "\n",
    "def grad_fn(FEM_model,NN):\n",
    "    dj = FEM_model.grad(NN)\n",
    "    gradients = []\n",
    "    for p in NN.parameters():\n",
    "        gradients.append(p.grad.view(-1).numpy())\n",
    "        \n",
    "    return dj*gradients\n",
    "\n",
    "optimizer = optim.SGD(model.parameters(), lr = learning_rate)"
   ]
  },
  {
   "cell_type": "markdown",
   "id": "95b8f222",
   "metadata": {},
   "source": [
    "# Train model"
   ]
  },
  {
   "cell_type": "code",
   "execution_count": 156,
   "id": "1dd3fb50",
   "metadata": {},
   "outputs": [],
   "source": [
    "# Define the training loop\n",
    "def train(params):\n",
    "    # Update the neural network weights\n",
    "    with torch.no_grad():\n",
    "        net_params = torch.tensor(params, dtype=torch.float32).reshape(-1, 1)\n",
    "        current_param_idx = 0\n",
    "        for p in model.parameters():\n",
    "            p.data = net_params[current_param_idx:current_param_idx+p.numel()].reshape(p.shape)\n",
    "            current_param_idx += p.numel()\n",
    "        \n",
    "    print(model.fc1.weight.grad)\n",
    "    # Compute the predictions and loss\n",
    "    y_pred = FEM_model.forward(model)\n",
    "    y_pred = Variable(y_pred.data, requires_grad=True)\n",
    "    loss = loss_fn(y_pred, data)\n",
    "    # Compute the gradients and update the weights\n",
    "    model.zero_grad()\n",
    "    loss.backward()\n",
    "    print(model.fc1.weight.grad)\n",
    "    grads = grad_fn(FEM_model,model)\n",
    "    grads = grads.astype('float64') # convert to the correct data type\n",
    "    return loss.item(), grads\n",
    "\n",
    "# Define the optimizer\n",
    "def optimize(params):\n",
    "    loss, grads = train(params)\n",
    "    return loss, grads\n",
    "\n"
   ]
  },
  {
   "cell_type": "code",
   "execution_count": 157,
   "id": "a13fab9f",
   "metadata": {},
   "outputs": [
    {
     "ename": "ValueError",
     "evalue": "length of x0 != length of bounds",
     "output_type": "error",
     "traceback": [
      "\u001b[0;31m---------------------------------------------------------------------------\u001b[0m",
      "\u001b[0;31mValueError\u001b[0m                                Traceback (most recent call last)",
      "Input \u001b[0;32mIn [157]\u001b[0m, in \u001b[0;36m<cell line: 6>\u001b[0;34m()\u001b[0m\n\u001b[1;32m      3\u001b[0m bounds \u001b[38;5;241m=\u001b[39m [(\u001b[38;5;28;01mNone\u001b[39;00m, \u001b[38;5;28;01mNone\u001b[39;00m)]\n\u001b[1;32m      6\u001b[0m \u001b[38;5;28;01mfor\u001b[39;00m epoch \u001b[38;5;129;01min\u001b[39;00m \u001b[38;5;28mrange\u001b[39m(\u001b[38;5;241m100\u001b[39m):\n\u001b[0;32m----> 7\u001b[0m     result \u001b[38;5;241m=\u001b[39m \u001b[43mminimize\u001b[49m\u001b[43m(\u001b[49m\u001b[43moptimize\u001b[49m\u001b[43m,\u001b[49m\u001b[43m \u001b[49m\u001b[43mparams0\u001b[49m\u001b[43m,\u001b[49m\u001b[43m \u001b[49m\u001b[43mjac\u001b[49m\u001b[38;5;241;43m=\u001b[39;49m\u001b[38;5;28;43;01mTrue\u001b[39;49;00m\u001b[43m,\u001b[49m\u001b[43m \u001b[49m\u001b[43mmethod\u001b[49m\u001b[38;5;241;43m=\u001b[39;49m\u001b[38;5;124;43m'\u001b[39;49m\u001b[38;5;124;43mL-BFGS-B\u001b[39;49m\u001b[38;5;124;43m'\u001b[39;49m\u001b[43m,\u001b[49m\u001b[43m \u001b[49m\u001b[43mbounds\u001b[49m\u001b[38;5;241;43m=\u001b[39;49m\u001b[43mbounds\u001b[49m\u001b[43m)\u001b[49m\n\u001b[1;32m      8\u001b[0m     params0 \u001b[38;5;241m=\u001b[39m result\u001b[38;5;241m.\u001b[39mx\n",
      "File \u001b[0;32m~/.local/lib/python3.10/site-packages/scipy/optimize/_minimize.py:692\u001b[0m, in \u001b[0;36mminimize\u001b[0;34m(fun, x0, args, method, jac, hess, hessp, bounds, constraints, tol, callback, options)\u001b[0m\n\u001b[1;32m    689\u001b[0m     res \u001b[38;5;241m=\u001b[39m _minimize_newtoncg(fun, x0, args, jac, hess, hessp, callback,\n\u001b[1;32m    690\u001b[0m                              \u001b[38;5;241m*\u001b[39m\u001b[38;5;241m*\u001b[39moptions)\n\u001b[1;32m    691\u001b[0m \u001b[38;5;28;01melif\u001b[39;00m meth \u001b[38;5;241m==\u001b[39m \u001b[38;5;124m'\u001b[39m\u001b[38;5;124ml-bfgs-b\u001b[39m\u001b[38;5;124m'\u001b[39m:\n\u001b[0;32m--> 692\u001b[0m     res \u001b[38;5;241m=\u001b[39m \u001b[43m_minimize_lbfgsb\u001b[49m\u001b[43m(\u001b[49m\u001b[43mfun\u001b[49m\u001b[43m,\u001b[49m\u001b[43m \u001b[49m\u001b[43mx0\u001b[49m\u001b[43m,\u001b[49m\u001b[43m \u001b[49m\u001b[43margs\u001b[49m\u001b[43m,\u001b[49m\u001b[43m \u001b[49m\u001b[43mjac\u001b[49m\u001b[43m,\u001b[49m\u001b[43m \u001b[49m\u001b[43mbounds\u001b[49m\u001b[43m,\u001b[49m\n\u001b[1;32m    693\u001b[0m \u001b[43m                           \u001b[49m\u001b[43mcallback\u001b[49m\u001b[38;5;241;43m=\u001b[39;49m\u001b[43mcallback\u001b[49m\u001b[43m,\u001b[49m\u001b[43m \u001b[49m\u001b[38;5;241;43m*\u001b[39;49m\u001b[38;5;241;43m*\u001b[39;49m\u001b[43moptions\u001b[49m\u001b[43m)\u001b[49m\n\u001b[1;32m    694\u001b[0m \u001b[38;5;28;01melif\u001b[39;00m meth \u001b[38;5;241m==\u001b[39m \u001b[38;5;124m'\u001b[39m\u001b[38;5;124mtnc\u001b[39m\u001b[38;5;124m'\u001b[39m:\n\u001b[1;32m    695\u001b[0m     res \u001b[38;5;241m=\u001b[39m _minimize_tnc(fun, x0, args, jac, bounds, callback\u001b[38;5;241m=\u001b[39mcallback,\n\u001b[1;32m    696\u001b[0m                         \u001b[38;5;241m*\u001b[39m\u001b[38;5;241m*\u001b[39moptions)\n",
      "File \u001b[0;32m~/.local/lib/python3.10/site-packages/scipy/optimize/_lbfgsb_py.py:286\u001b[0m, in \u001b[0;36m_minimize_lbfgsb\u001b[0;34m(fun, x0, args, jac, bounds, disp, maxcor, ftol, gtol, eps, maxfun, maxiter, iprint, callback, maxls, finite_diff_rel_step, **unknown_options)\u001b[0m\n\u001b[1;32m    284\u001b[0m     bounds \u001b[38;5;241m=\u001b[39m [(\u001b[38;5;28;01mNone\u001b[39;00m, \u001b[38;5;28;01mNone\u001b[39;00m)] \u001b[38;5;241m*\u001b[39m n\n\u001b[1;32m    285\u001b[0m \u001b[38;5;28;01mif\u001b[39;00m \u001b[38;5;28mlen\u001b[39m(bounds) \u001b[38;5;241m!=\u001b[39m n:\n\u001b[0;32m--> 286\u001b[0m     \u001b[38;5;28;01mraise\u001b[39;00m \u001b[38;5;167;01mValueError\u001b[39;00m(\u001b[38;5;124m'\u001b[39m\u001b[38;5;124mlength of x0 != length of bounds\u001b[39m\u001b[38;5;124m'\u001b[39m)\n\u001b[1;32m    288\u001b[0m \u001b[38;5;66;03m# unbounded variables must use None, not +-inf, for optimizer to work properly\u001b[39;00m\n\u001b[1;32m    289\u001b[0m bounds \u001b[38;5;241m=\u001b[39m [(\u001b[38;5;28;01mNone\u001b[39;00m \u001b[38;5;28;01mif\u001b[39;00m l \u001b[38;5;241m==\u001b[39m \u001b[38;5;241m-\u001b[39mnp\u001b[38;5;241m.\u001b[39minf \u001b[38;5;28;01melse\u001b[39;00m l, \u001b[38;5;28;01mNone\u001b[39;00m \u001b[38;5;28;01mif\u001b[39;00m u \u001b[38;5;241m==\u001b[39m np\u001b[38;5;241m.\u001b[39minf \u001b[38;5;28;01melse\u001b[39;00m u) \u001b[38;5;28;01mfor\u001b[39;00m l, u \u001b[38;5;129;01min\u001b[39;00m bounds]\n",
      "\u001b[0;31mValueError\u001b[0m: length of x0 != length of bounds"
     ]
    }
   ],
   "source": [
    "# Initialize the weight parameter and optimize it with scipy\n",
    "params0 = np.concatenate([p.view(-1).detach().numpy() for p in model.parameters()])\n",
    "bounds = [(None, None)]\n",
    "\n",
    "\n",
    "for epoch in range(100):\n",
    "    result = minimize(optimize, params0, jac=True, method='L-BFGS-B', bounds=bounds)\n",
    "    params0 = result.x"
   ]
  },
  {
   "cell_type": "code",
   "execution_count": 158,
   "id": "b44e764f",
   "metadata": {},
   "outputs": [
    {
     "name": "stdout",
     "output_type": "stream",
     "text": [
      "None\n",
      "None\n"
     ]
    },
    {
     "ename": "AttributeError",
     "evalue": "'NoneType' object has no attribute 'view'",
     "output_type": "error",
     "traceback": [
      "\u001b[0;31m---------------------------------------------------------------------------\u001b[0m",
      "\u001b[0;31mAttributeError\u001b[0m                            Traceback (most recent call last)",
      "Input \u001b[0;32mIn [158]\u001b[0m, in \u001b[0;36m<cell line: 1>\u001b[0;34m()\u001b[0m\n\u001b[0;32m----> 1\u001b[0m \u001b[38;5;28mprint\u001b[39m(\u001b[43moptimize\u001b[49m\u001b[43m(\u001b[49m\u001b[43mparams0\u001b[49m\u001b[43m)\u001b[49m)\n",
      "Input \u001b[0;32mIn [156]\u001b[0m, in \u001b[0;36moptimize\u001b[0;34m(params)\u001b[0m\n\u001b[1;32m     25\u001b[0m \u001b[38;5;28;01mdef\u001b[39;00m \u001b[38;5;21moptimize\u001b[39m(params):\n\u001b[0;32m---> 26\u001b[0m     loss, grads \u001b[38;5;241m=\u001b[39m \u001b[43mtrain\u001b[49m\u001b[43m(\u001b[49m\u001b[43mparams\u001b[49m\u001b[43m)\u001b[49m\n\u001b[1;32m     27\u001b[0m     \u001b[38;5;28;01mreturn\u001b[39;00m loss, grads\n",
      "Input \u001b[0;32mIn [156]\u001b[0m, in \u001b[0;36mtrain\u001b[0;34m(params)\u001b[0m\n\u001b[1;32m     18\u001b[0m loss\u001b[38;5;241m.\u001b[39mbackward()\n\u001b[1;32m     19\u001b[0m \u001b[38;5;28mprint\u001b[39m(model\u001b[38;5;241m.\u001b[39mfc1\u001b[38;5;241m.\u001b[39mweight\u001b[38;5;241m.\u001b[39mgrad)\n\u001b[0;32m---> 20\u001b[0m grads \u001b[38;5;241m=\u001b[39m \u001b[43mgrad_fn\u001b[49m\u001b[43m(\u001b[49m\u001b[43mFEM_model\u001b[49m\u001b[43m,\u001b[49m\u001b[43mmodel\u001b[49m\u001b[43m)\u001b[49m\n\u001b[1;32m     21\u001b[0m grads \u001b[38;5;241m=\u001b[39m grads\u001b[38;5;241m.\u001b[39mastype(\u001b[38;5;124m'\u001b[39m\u001b[38;5;124mfloat64\u001b[39m\u001b[38;5;124m'\u001b[39m) \u001b[38;5;66;03m# convert to the correct data type\u001b[39;00m\n\u001b[1;32m     22\u001b[0m \u001b[38;5;28;01mreturn\u001b[39;00m loss\u001b[38;5;241m.\u001b[39mitem(), grads\n",
      "Input \u001b[0;32mIn [131]\u001b[0m, in \u001b[0;36mgrad_fn\u001b[0;34m(FEM_model, NN)\u001b[0m\n\u001b[1;32m      9\u001b[0m gradients \u001b[38;5;241m=\u001b[39m []\n\u001b[1;32m     10\u001b[0m \u001b[38;5;28;01mfor\u001b[39;00m p \u001b[38;5;129;01min\u001b[39;00m NN\u001b[38;5;241m.\u001b[39mparameters():\n\u001b[0;32m---> 11\u001b[0m     gradients\u001b[38;5;241m.\u001b[39mappend(\u001b[43mp\u001b[49m\u001b[38;5;241;43m.\u001b[39;49m\u001b[43mgrad\u001b[49m\u001b[38;5;241;43m.\u001b[39;49m\u001b[43mview\u001b[49m(\u001b[38;5;241m-\u001b[39m\u001b[38;5;241m1\u001b[39m)\u001b[38;5;241m.\u001b[39mnumpy())\n\u001b[1;32m     13\u001b[0m \u001b[38;5;28;01mreturn\u001b[39;00m dj\u001b[38;5;241m*\u001b[39mgradients\n",
      "\u001b[0;31mAttributeError\u001b[0m: 'NoneType' object has no attribute 'view'"
     ]
    }
   ],
   "source": [
    "print(optimize(params0))"
   ]
  },
  {
   "cell_type": "code",
   "execution_count": 146,
   "id": "73d28bfe",
   "metadata": {},
   "outputs": [
    {
     "name": "stdout",
     "output_type": "stream",
     "text": [
      "None\n",
      "Epoch 0: Loss = 2.2614\n"
     ]
    }
   ],
   "source": [
    "num_epochs = 1\n",
    "\n",
    "for epoch in range(num_epochs):\n",
    "    \n",
    "    # forward\n",
    "    u_test = FEM_model.forward(model)\n",
    "    u_test = Variable(u_test.data, requires_grad=True)\n",
    "    \n",
    "    loss = loss_fn(u_test, data)\n",
    "\n",
    "    # backward prop\n",
    "    optimizer.zero_grad()\n",
    "    loss.backward()\n",
    "\n",
    "    print(model.fc1.weight.grad)\n",
    "    \n",
    "    # gradient descent or adam step\n",
    "    optimizer.step()\n",
    "    \n",
    "    if epoch % 10 == 0:\n",
    "            print(f'Epoch {epoch}: Loss = {loss.item():.4f}')"
   ]
  },
  {
   "cell_type": "code",
   "execution_count": 77,
   "id": "b8902e75",
   "metadata": {},
   "outputs": [
    {
     "name": "stdout",
     "output_type": "stream",
     "text": [
      "[0.]\n",
      "[0.02040816]\n",
      "[0.04081633]\n",
      "[0.06122449]\n",
      "[0.08163265]\n",
      "[0.10204082]\n",
      "[0.12244898]\n",
      "[0.14285714]\n",
      "[0.16326531]\n",
      "[0.18367347]\n",
      "[0.20408163]\n",
      "[0.2244898]\n",
      "[0.24489796]\n",
      "[0.26530612]\n",
      "[0.28571429]\n",
      "[0.30612245]\n",
      "[0.32653061]\n",
      "[0.34693878]\n",
      "[0.36734694]\n",
      "[0.3877551]\n",
      "[0.40816327]\n",
      "[0.42857143]\n",
      "[0.44897959]\n",
      "[0.46938776]\n",
      "[0.48979592]\n",
      "[0.51020408]\n",
      "[0.53061224]\n",
      "[0.55102041]\n",
      "[0.57142857]\n",
      "[0.59183673]\n",
      "[0.6122449]\n",
      "[0.63265306]\n",
      "[0.65306122]\n",
      "[0.67346939]\n",
      "[0.69387755]\n",
      "[0.71428571]\n",
      "[0.73469388]\n",
      "[0.75510204]\n",
      "[0.7755102]\n",
      "[0.79591837]\n",
      "[0.81632653]\n",
      "[0.83673469]\n",
      "[0.85714286]\n",
      "[0.87755102]\n",
      "[0.89795918]\n",
      "[0.91836735]\n",
      "[0.93877551]\n",
      "[0.95918367]\n",
      "[0.97959184]\n",
      "[1.]\n"
     ]
    }
   ],
   "source": [
    "x = np.linspace(0,1,50)\n",
    "x = x.reshape(50,1)\n",
    "y = 0*x\n",
    "\n",
    "for i in range(len(x)):\n",
    "    print(x[i])\n",
    "    y[i] = model(x[i].tolist())"
   ]
  },
  {
   "cell_type": "code",
   "execution_count": null,
   "id": "b023d028",
   "metadata": {},
   "outputs": [],
   "source": []
  }
 ],
 "metadata": {
  "kernelspec": {
   "display_name": "Python 3 (ipykernel)",
   "language": "python",
   "name": "python3"
  },
  "language_info": {
   "codemirror_mode": {
    "name": "ipython",
    "version": 3
   },
   "file_extension": ".py",
   "mimetype": "text/x-python",
   "name": "python",
   "nbconvert_exporter": "python",
   "pygments_lexer": "ipython3",
   "version": "3.10.4"
  }
 },
 "nbformat": 4,
 "nbformat_minor": 5
}
