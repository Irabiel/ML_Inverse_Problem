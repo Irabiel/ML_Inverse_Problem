{
 "cells": [
  {
   "cell_type": "code",
   "execution_count": 385,
   "id": "6fa4f740",
   "metadata": {},
   "outputs": [],
   "source": [
    "import dolfin as dl\n",
    "import matplotlib.pyplot as plt\n",
    "%matplotlib inline\n",
    "import numpy as np\n",
    "\n",
    "import scipy.integrate as si\n",
    "import scipy.optimize as so\n",
    "\n",
    "import torch\n",
    "import torch.nn as nn\n",
    "import torch.nn.functional as F\n",
    "\n",
    "np.random.seed(2)"
   ]
  },
  {
   "cell_type": "markdown",
   "id": "f2de95e2",
   "metadata": {},
   "source": [
    "# Create the Network"
   ]
  },
  {
   "cell_type": "code",
   "execution_count": 446,
   "id": "8fea3691",
   "metadata": {},
   "outputs": [],
   "source": [
    "class NN(nn.Module):\n",
    "    def __init__(self):\n",
    "        super(NN,self).__init__()\n",
    "        self.fc1 = nn.Linear(1, 3)\n",
    "        self.fc2 = nn.Linear(3, 1)\n",
    "        self.apply(self._init_weights)\n",
    "        \n",
    "    def _init_weights(self, module):\n",
    "        if isinstance(module, nn.Linear):\n",
    "            module.weight.data.uniform_()\n",
    "            if module.bias is not None:\n",
    "                module.bias.data.zero_()\n",
    "\n",
    "        \n",
    "    def forward(self, x):\n",
    "        x = torch.tensor([x])\n",
    "        x = self.fc1(x)\n",
    "        x = F.relu(x)\n",
    "        x = self.fc2(x)\n",
    "        return x.item()\n",
    "    \n",
    "    def vector_eval(self, x, m):\n",
    "        \n",
    "        if type(x) is not list:\n",
    "            x = x.tolist()\n",
    "        \n",
    "        i = 0\n",
    "        for xi in x:\n",
    "            m[i] = self.forward(xi)\n",
    "            i += 1"
   ]
  },
  {
   "cell_type": "markdown",
   "id": "6b9f0d66",
   "metadata": {},
   "source": [
    "# Testing model"
   ]
  },
  {
   "cell_type": "raw",
   "id": "7472996c",
   "metadata": {},
   "source": [
    "model = NN()\n",
    "x = [1.,2.]\n",
    "m = [1.,2.]\n",
    "model.vector_eval(x,m)\n",
    "print(m)\n",
    "#print(model.state_dict())"
   ]
  },
  {
   "cell_type": "markdown",
   "id": "99fef73c",
   "metadata": {},
   "source": [
    "# Set device"
   ]
  },
  {
   "cell_type": "code",
   "execution_count": 387,
   "id": "cec8a4af",
   "metadata": {},
   "outputs": [],
   "source": [
    "device = torch.device('cuda' if torch.cuda.is_available() else 'cpu')"
   ]
  },
  {
   "cell_type": "markdown",
   "id": "f29934f8",
   "metadata": {},
   "source": [
    "# Creating component needed for model"
   ]
  },
  {
   "cell_type": "code",
   "execution_count": 388,
   "id": "1b70c2a5",
   "metadata": {},
   "outputs": [
    {
     "data": {
      "image/png": "[encoded data removed]",
      "text/plain": [
       "<Figure size 432x288 with 1 Axes>"
      ]
     },
     "metadata": {
      "needs_background": "light"
     },
     "output_type": "display_data"
    }
   ],
   "source": [
    "# number of elements for training and testing data\n",
    "n_train = 50\n",
    "n_test  = 101\n",
    "\n",
    "# Create mesh for training and testing data\n",
    "mesh_train = dl.UnitIntervalMesh(n_train)\n",
    "mesh_test = dl.UnitIntervalMesh(n_test)\n",
    "\n",
    "# Create vector version of mesh\n",
    "mesh_vec = np.linspace(0,1,n_train)\n",
    "\n",
    "# Define the function space\n",
    "Vh = dl.FunctionSpace(mesh_train, 'Lagrange', 1)\n",
    "\n",
    "# Show the mesh\n",
    "dl.plot(mesh_train)\n",
    "plt.show()\n"
   ]
  },
  {
   "cell_type": "markdown",
   "id": "d5223c46",
   "metadata": {},
   "source": [
    "# Boundary information"
   ]
  },
  {
   "cell_type": "code",
   "execution_count": 389,
   "id": "e900e9ca",
   "metadata": {},
   "outputs": [],
   "source": [
    "def ud_boundary(x, on_boundary):\n",
    "    return on_boundary\n",
    "\n",
    "# Define boundary conditions\n",
    "ud = dl.Constant('0.0')\n",
    "bc = dl.DirichletBC(Vh, ud, ud_boundary)\n",
    "\n"
   ]
  },
  {
   "cell_type": "markdown",
   "id": "c21dd279",
   "metadata": {},
   "source": [
    "# FEM model\n"
   ]
  },
  {
   "cell_type": "code",
   "execution_count": 447,
   "id": "d4314eaa",
   "metadata": {},
   "outputs": [],
   "source": [
    "class FEM_function:\n",
    "    def __init__(self, Vh, mesh, bc):\n",
    "        self.Vh = Vh\n",
    "        self.coords = np.array(mesh_train.coordinates()).tolist()\n",
    "        self.bc = bc\n",
    "        \n",
    "        # Define variational problem\n",
    "        self.uh = dl.TrialFunction(Vh)\n",
    "        self.vh = dl.TestFunction(Vh)\n",
    "        self.M = dl.assemble( dl.inner(self.uh, self.vh)*dl.dx(self.Vh) )\n",
    "        \n",
    "        self.m_vector = dl.Vector()\n",
    "        self.u = dl.Vector()\n",
    "        self.p = dl.Vector()\n",
    "        self.M.init_vector(self.m_vector, 0)\n",
    "        self.M.init_vector(self.u, 0)\n",
    "        self.M.init_vector(self.p, 0)\n",
    "        \n",
    "        self.ud = None\n",
    "        self.m_fun = None\n",
    "        \n",
    "    def forward_data(self, m, f_expr, noise_lvl, add_noise = False):\n",
    "        Kform = m * dl.inner(dl.grad(self.uh), dl.grad(self.vh))*dl.dx(self.Vh)\n",
    "        K, self.f = dl.assemble_system(Kform, f_expr*self.vh*dl.dx(self.Vh), self.bc)\n",
    "        solver = dl.LUSolver()\n",
    "        solver.set_operator(K)\n",
    "        \n",
    "        solver.solve(self.u, self.f)\n",
    "        \n",
    "        self.ud = dl.Vector()\n",
    "        self.M.init_vector(self.ud, 0)        \n",
    "        self.ud.axpy(1.,self.u)\n",
    "        \n",
    "        if add_noise is True:\n",
    "            uL2 = dl.norm(self.u, 'L2')\n",
    "            noise = dl.Vector()\n",
    "            M.init_vector(noise, 0)   \n",
    "            noise.set_local( noise_lvl * uL2 *np.random.randn(Vh.dim()))\n",
    "            self.ud.axpy(1.,noise)\n",
    "        \n",
    "        return self.u, self.ud\n",
    "    \n",
    "    def extract_m(self, model):\n",
    "        model.vector_eval(self.coords,self.m_vector)\n",
    "        return dl.Function(self.Vh, self.m_vector)\n",
    "\n",
    "    def update_Systems(self, model):\n",
    "        self.m_fun = self.extract_m(model)\n",
    "        Kform   = self.m_fun * dl.inner(dl.grad(self.uh), dl.grad(self.vh))*dl.dx(self.Vh)\n",
    "        Kformt  = self.m_fun * dl.inner(dl.grad(self.vh), dl.grad(self.uh))*dl.dx(self.Vh)\n",
    "        \n",
    "        self.K, _ = dl.assemble_system(Kform, dl.Constant(0.)*self.vh*dl.dx(self.Vh), self.bc)\n",
    "        self.Kt, _ = dl.assemble_system(Kformt, dl.Constant(0.)*self.vh*dl.dx(self.Vh), self.bc)\n",
    "        \n",
    "        self.solver = dl.LUSolver()\n",
    "        self.solver.set_operator(self.K)\n",
    "        self.solvert = dl.LUSolver()\n",
    "        self.solvert.set_operator(self.Kt)\n",
    "       \n",
    "    def forward(self, model):\n",
    "        self.update_Systems(model)\n",
    "        \n",
    "        self.solver.solve(self.u,self.f)\n",
    "        \n",
    "        return self.u\n",
    "        \n",
    "    def adjoint(self):\n",
    "        \n",
    "        rhs = dl.Vector()\n",
    "        self.M.init_vector(rhs, 0)\n",
    "        rhs.axpy(-1., self.M * (self.u - self.ud))\n",
    "        \n",
    "        self.solver.solve(self.p, rhs)\n",
    "        \n",
    "        return self.p\n",
    "    \n",
    "    def cost(self, model):\n",
    "        c = 0\n",
    "        _ = self.forward(model)\n",
    "        \n",
    "        c = .5 * np.inner(self.M * (self.u - self.ud),(self.u - self.ud))\n",
    "        \n",
    "        return c\n",
    "    def grad(self, model):\n",
    "        _ = self.forward(model)\n",
    "        _ = self.adjoint()\n",
    "        \n",
    "        u_fun = dl.Function(self.Vh, self.u)\n",
    "        Fm = dl.assemble(dl.inner(dl.grad(u_fun), dl.grad(self.vh))*dl.dx(self.Vh))\n",
    "        Jm = dl.assemble(dl.inner(dl.Constant(0.), dl.Constant(0.))*dl.dx(self.Vh))\n",
    "        \n",
    "        return (np.inner(self.p, Fm) + Jm) * model.backward()"
   ]
  },
  {
   "cell_type": "markdown",
   "id": "b3ecb693",
   "metadata": {},
   "source": [
    "# Create data"
   ]
  },
  {
   "cell_type": "code",
   "execution_count": 448,
   "id": "ec5cdd63",
   "metadata": {},
   "outputs": [
    {
     "data": {
      "image/png": "[encoded data removed]",
      "text/plain": [
       "<Figure size 432x288 with 1 Axes>"
      ]
     },
     "metadata": {
      "needs_background": "light"
     },
     "output_type": "display_data"
    },
    {
     "data": {
      "image/png": "[encoded data removed]",
      "text/plain": [
       "<Figure size 432x288 with 1 Axes>"
      ]
     },
     "metadata": {
      "needs_background": "light"
     },
     "output_type": "display_data"
    }
   ],
   "source": [
    "noise_lvl = 0.02\n",
    "\n",
    "# True m\n",
    "m_true = dl.Constant(1.)\n",
    "mx = dl.Constant(0.)\n",
    "\n",
    "# True solution and derivatives\n",
    "utrue = dl.Expression('sin(2*pi*x[0]) * sin(2*pi*x[0])', degree=3)\n",
    "ux = dl.Expression('4 * pi * sin(2*pi*x[0]) * cos(2*pi*x[0])', degree=3)\n",
    "uxx = dl.Expression('-8*pi*pi*( sin(2*pi*x[0]) * sin(2*pi*x[0]) - cos(2*pi*x[0]) * cos(2*pi*x[0]) )', degree=3)\n",
    "\n",
    "f = -mx*ux - m*uxx\n",
    "\n",
    "FEM_model = FEM_function(Vh, mesh = mesh_train, bc = bc)\n",
    "\n",
    "uapprox, data = FEM_model.forward_data(m_true, f, noise_lvl, add_noise=False)\n",
    "uapprox = dl.Function(Vh, uapprox)\n",
    "data = dl.Function(Vh, data)\n",
    "\n",
    "dl.plot(uapprox)\n",
    "plt.show()\n",
    "dl.plot(data)\n",
    "plt.show()\n",
    "\n"
   ]
  },
  {
   "cell_type": "code",
   "execution_count": 449,
   "id": "b91e8fce",
   "metadata": {},
   "outputs": [
    {
     "ename": "AttributeError",
     "evalue": "'NN' object has no attribute 'save_for_backward'",
     "output_type": "error",
     "traceback": [
      "\u001b[0;31m---------------------------------------------------------------------------\u001b[0m",
      "\u001b[0;31mAttributeError\u001b[0m                            Traceback (most recent call last)",
      "Input \u001b[0;32mIn [449]\u001b[0m, in \u001b[0;36m<cell line: 2>\u001b[0;34m()\u001b[0m\n\u001b[1;32m      1\u001b[0m model \u001b[38;5;241m=\u001b[39m NN()\n\u001b[0;32m----> 2\u001b[0m \u001b[38;5;28mprint\u001b[39m(\u001b[43mFEM_model\u001b[49m\u001b[38;5;241;43m.\u001b[39;49m\u001b[43mgrad\u001b[49m\u001b[43m(\u001b[49m\u001b[43mmodel\u001b[49m\u001b[43m)\u001b[49m)\n\u001b[1;32m      3\u001b[0m \u001b[38;5;28mprint\u001b[39m(FEM_model\u001b[38;5;241m.\u001b[39mcost(model))\n\u001b[1;32m      5\u001b[0m dl\u001b[38;5;241m.\u001b[39mplot(dl\u001b[38;5;241m.\u001b[39mFunction(Vh, FEM_model\u001b[38;5;241m.\u001b[39mforward(model)))\n",
      "Input \u001b[0;32mIn [447]\u001b[0m, in \u001b[0;36mFEM_function.grad\u001b[0;34m(self, model)\u001b[0m\n\u001b[1;32m     84\u001b[0m \u001b[38;5;28;01mdef\u001b[39;00m \u001b[38;5;21mgrad\u001b[39m(\u001b[38;5;28mself\u001b[39m, model):\n\u001b[0;32m---> 85\u001b[0m     _ \u001b[38;5;241m=\u001b[39m \u001b[38;5;28;43mself\u001b[39;49m\u001b[38;5;241;43m.\u001b[39;49m\u001b[43mforward\u001b[49m\u001b[43m(\u001b[49m\u001b[43mmodel\u001b[49m\u001b[43m)\u001b[49m\n\u001b[1;32m     86\u001b[0m     _ \u001b[38;5;241m=\u001b[39m \u001b[38;5;28mself\u001b[39m\u001b[38;5;241m.\u001b[39madjoint()\n\u001b[1;32m     88\u001b[0m     u_fun \u001b[38;5;241m=\u001b[39m dl\u001b[38;5;241m.\u001b[39mFunction(\u001b[38;5;28mself\u001b[39m\u001b[38;5;241m.\u001b[39mVh, \u001b[38;5;28mself\u001b[39m\u001b[38;5;241m.\u001b[39mu)\n",
      "Input \u001b[0;32mIn [447]\u001b[0m, in \u001b[0;36mFEM_function.forward\u001b[0;34m(self, model)\u001b[0m\n\u001b[1;32m     60\u001b[0m \u001b[38;5;28;01mdef\u001b[39;00m \u001b[38;5;21mforward\u001b[39m(\u001b[38;5;28mself\u001b[39m, model):\n\u001b[0;32m---> 61\u001b[0m     \u001b[38;5;28;43mself\u001b[39;49m\u001b[38;5;241;43m.\u001b[39;49m\u001b[43mupdate_Systems\u001b[49m\u001b[43m(\u001b[49m\u001b[43mmodel\u001b[49m\u001b[43m)\u001b[49m\n\u001b[1;32m     63\u001b[0m     \u001b[38;5;28mself\u001b[39m\u001b[38;5;241m.\u001b[39msolver\u001b[38;5;241m.\u001b[39msolve(\u001b[38;5;28mself\u001b[39m\u001b[38;5;241m.\u001b[39mu,\u001b[38;5;28mself\u001b[39m\u001b[38;5;241m.\u001b[39mf)\n\u001b[1;32m     65\u001b[0m     \u001b[38;5;28;01mreturn\u001b[39;00m \u001b[38;5;28mself\u001b[39m\u001b[38;5;241m.\u001b[39mu\n",
      "Input \u001b[0;32mIn [447]\u001b[0m, in \u001b[0;36mFEM_function.update_Systems\u001b[0;34m(self, model)\u001b[0m\n\u001b[1;32m     47\u001b[0m \u001b[38;5;28;01mdef\u001b[39;00m \u001b[38;5;21mupdate_Systems\u001b[39m(\u001b[38;5;28mself\u001b[39m, model):\n\u001b[0;32m---> 48\u001b[0m     \u001b[38;5;28mself\u001b[39m\u001b[38;5;241m.\u001b[39mm_fun \u001b[38;5;241m=\u001b[39m \u001b[38;5;28;43mself\u001b[39;49m\u001b[38;5;241;43m.\u001b[39;49m\u001b[43mextract_m\u001b[49m\u001b[43m(\u001b[49m\u001b[43mmodel\u001b[49m\u001b[43m)\u001b[49m\n\u001b[1;32m     49\u001b[0m     Kform   \u001b[38;5;241m=\u001b[39m \u001b[38;5;28mself\u001b[39m\u001b[38;5;241m.\u001b[39mm_fun \u001b[38;5;241m*\u001b[39m dl\u001b[38;5;241m.\u001b[39minner(dl\u001b[38;5;241m.\u001b[39mgrad(\u001b[38;5;28mself\u001b[39m\u001b[38;5;241m.\u001b[39muh), dl\u001b[38;5;241m.\u001b[39mgrad(\u001b[38;5;28mself\u001b[39m\u001b[38;5;241m.\u001b[39mvh))\u001b[38;5;241m*\u001b[39mdl\u001b[38;5;241m.\u001b[39mdx(\u001b[38;5;28mself\u001b[39m\u001b[38;5;241m.\u001b[39mVh)\n\u001b[1;32m     50\u001b[0m     Kformt  \u001b[38;5;241m=\u001b[39m \u001b[38;5;28mself\u001b[39m\u001b[38;5;241m.\u001b[39mm_fun \u001b[38;5;241m*\u001b[39m dl\u001b[38;5;241m.\u001b[39minner(dl\u001b[38;5;241m.\u001b[39mgrad(\u001b[38;5;28mself\u001b[39m\u001b[38;5;241m.\u001b[39mvh), dl\u001b[38;5;241m.\u001b[39mgrad(\u001b[38;5;28mself\u001b[39m\u001b[38;5;241m.\u001b[39muh))\u001b[38;5;241m*\u001b[39mdl\u001b[38;5;241m.\u001b[39mdx(\u001b[38;5;28mself\u001b[39m\u001b[38;5;241m.\u001b[39mVh)\n",
      "Input \u001b[0;32mIn [447]\u001b[0m, in \u001b[0;36mFEM_function.extract_m\u001b[0;34m(self, model)\u001b[0m\n\u001b[1;32m     43\u001b[0m \u001b[38;5;28;01mdef\u001b[39;00m \u001b[38;5;21mextract_m\u001b[39m(\u001b[38;5;28mself\u001b[39m, model):\n\u001b[0;32m---> 44\u001b[0m     \u001b[43mmodel\u001b[49m\u001b[38;5;241;43m.\u001b[39;49m\u001b[43mvector_eval\u001b[49m\u001b[43m(\u001b[49m\u001b[38;5;28;43mself\u001b[39;49m\u001b[38;5;241;43m.\u001b[39;49m\u001b[43mcoords\u001b[49m\u001b[43m,\u001b[49m\u001b[38;5;28;43mself\u001b[39;49m\u001b[38;5;241;43m.\u001b[39;49m\u001b[43mm_vector\u001b[49m\u001b[43m)\u001b[49m\n\u001b[1;32m     45\u001b[0m     \u001b[38;5;28;01mreturn\u001b[39;00m dl\u001b[38;5;241m.\u001b[39mFunction(\u001b[38;5;28mself\u001b[39m\u001b[38;5;241m.\u001b[39mVh, \u001b[38;5;28mself\u001b[39m\u001b[38;5;241m.\u001b[39mm_vector)\n",
      "Input \u001b[0;32mIn [446]\u001b[0m, in \u001b[0;36mNN.vector_eval\u001b[0;34m(self, x, m)\u001b[0m\n\u001b[1;32m     32\u001b[0m i \u001b[38;5;241m=\u001b[39m \u001b[38;5;241m0\u001b[39m\n\u001b[1;32m     33\u001b[0m \u001b[38;5;28;01mfor\u001b[39;00m xi \u001b[38;5;129;01min\u001b[39;00m x:\n\u001b[0;32m---> 34\u001b[0m     m[i] \u001b[38;5;241m=\u001b[39m \u001b[38;5;28;43mself\u001b[39;49m\u001b[38;5;241;43m.\u001b[39;49m\u001b[43mforward\u001b[49m\u001b[43m(\u001b[49m\u001b[43mxi\u001b[49m\u001b[43m)\u001b[49m\n\u001b[1;32m     35\u001b[0m     i \u001b[38;5;241m+\u001b[39m\u001b[38;5;241m=\u001b[39m \u001b[38;5;241m1\u001b[39m\n",
      "Input \u001b[0;32mIn [446]\u001b[0m, in \u001b[0;36mNN.forward\u001b[0;34m(self, x)\u001b[0m\n\u001b[1;32m     18\u001b[0m x \u001b[38;5;241m=\u001b[39m F\u001b[38;5;241m.\u001b[39mrelu(x)\n\u001b[1;32m     19\u001b[0m x \u001b[38;5;241m=\u001b[39m \u001b[38;5;28mself\u001b[39m\u001b[38;5;241m.\u001b[39mfc2(x)\n\u001b[0;32m---> 20\u001b[0m \u001b[38;5;28;43mself\u001b[39;49m\u001b[38;5;241;43m.\u001b[39;49m\u001b[43msave_for_backward\u001b[49m(x)\n\u001b[1;32m     21\u001b[0m \u001b[38;5;28;01mreturn\u001b[39;00m x\u001b[38;5;241m.\u001b[39mitem()\n",
      "File \u001b[0;32m~/anaconda3/envs/fenicsproject/lib/python3.10/site-packages/torch/nn/modules/module.py:1265\u001b[0m, in \u001b[0;36mModule.__getattr__\u001b[0;34m(self, name)\u001b[0m\n\u001b[1;32m   1263\u001b[0m     \u001b[38;5;28;01mif\u001b[39;00m name \u001b[38;5;129;01min\u001b[39;00m modules:\n\u001b[1;32m   1264\u001b[0m         \u001b[38;5;28;01mreturn\u001b[39;00m modules[name]\n\u001b[0;32m-> 1265\u001b[0m \u001b[38;5;28;01mraise\u001b[39;00m \u001b[38;5;167;01mAttributeError\u001b[39;00m(\u001b[38;5;124m\"\u001b[39m\u001b[38;5;124m'\u001b[39m\u001b[38;5;132;01m{}\u001b[39;00m\u001b[38;5;124m'\u001b[39m\u001b[38;5;124m object has no attribute \u001b[39m\u001b[38;5;124m'\u001b[39m\u001b[38;5;132;01m{}\u001b[39;00m\u001b[38;5;124m'\u001b[39m\u001b[38;5;124m\"\u001b[39m\u001b[38;5;241m.\u001b[39mformat(\n\u001b[1;32m   1266\u001b[0m     \u001b[38;5;28mtype\u001b[39m(\u001b[38;5;28mself\u001b[39m)\u001b[38;5;241m.\u001b[39m\u001b[38;5;18m__name__\u001b[39m, name))\n",
      "\u001b[0;31mAttributeError\u001b[0m: 'NN' object has no attribute 'save_for_backward'"
     ]
    }
   ],
   "source": [
    "# Create an instance of the network\n",
    "model = NN()\n",
    "\n",
    "# Enable automatic differentiation\n",
    "for param in model.parameters():\n",
    "    param.requires_grad = True\n",
    "\n",
    "print(FEM_model.grad(model))\n",
    "print(FEM_model.cost(model))\n",
    "\n",
    "dl.plot(dl.Function(Vh, FEM_model.forward(model)))\n",
    "plt.show()\n",
    "dl.plot(FEM_model.m_fun)\n",
    "plt.show()"
   ]
  },
  {
   "cell_type": "markdown",
   "id": "ae1cd233",
   "metadata": {},
   "source": [
    "# Loss and optimizer"
   ]
  },
  {
   "cell_type": "code",
   "execution_count": 444,
   "id": "4662297b",
   "metadata": {},
   "outputs": [
    {
     "ename": "TypeError",
     "evalue": "float() argument must be a string or a real number, not 'generator'",
     "output_type": "error",
     "traceback": [
      "\u001b[0;31m---------------------------------------------------------------------------\u001b[0m",
      "\u001b[0;31mTypeError\u001b[0m                                 Traceback (most recent call last)",
      "Input \u001b[0;32mIn [444]\u001b[0m, in \u001b[0;36m<cell line: 2>\u001b[0;34m()\u001b[0m\n\u001b[1;32m      1\u001b[0m \u001b[38;5;66;03m# trust region optimizer with SR1 update\u001b[39;00m\n\u001b[0;32m----> 2\u001b[0m res \u001b[38;5;241m=\u001b[39m \u001b[43mso\u001b[49m\u001b[38;5;241;43m.\u001b[39;49m\u001b[43mminimize\u001b[49m\u001b[43m(\u001b[49m\u001b[43mfun\u001b[49m\u001b[38;5;241;43m=\u001b[39;49m\u001b[43mFEM_model\u001b[49m\u001b[38;5;241;43m.\u001b[39;49m\u001b[43mcost\u001b[49m\u001b[43m,\u001b[49m\u001b[43m \u001b[49m\u001b[43mjac\u001b[49m\u001b[38;5;241;43m=\u001b[39;49m\u001b[43mFEM_model\u001b[49m\u001b[38;5;241;43m.\u001b[39;49m\u001b[43mgrad\u001b[49m\u001b[43m,\u001b[49m\u001b[43m \u001b[49m\u001b[43mx0\u001b[49m\u001b[38;5;241;43m=\u001b[39;49m\u001b[43mmodel\u001b[49m\u001b[38;5;241;43m.\u001b[39;49m\u001b[43mparameters\u001b[49m\u001b[43m(\u001b[49m\u001b[43m)\u001b[49m\u001b[43m,\u001b[49m\u001b[43m \u001b[49m\u001b[43mmethod\u001b[49m\u001b[38;5;241;43m=\u001b[39;49m\u001b[38;5;124;43m'\u001b[39;49m\u001b[38;5;124;43mBFGS\u001b[39;49m\u001b[38;5;124;43m'\u001b[39;49m\u001b[43m,\u001b[49m\u001b[43m \u001b[49m\n\u001b[1;32m      3\u001b[0m \u001b[43m                  \u001b[49m\u001b[43moptions\u001b[49m\u001b[38;5;241;43m=\u001b[39;49m\u001b[43m{\u001b[49m\u001b[38;5;124;43m'\u001b[39;49m\u001b[38;5;124;43mgtol\u001b[39;49m\u001b[38;5;124;43m'\u001b[39;49m\u001b[43m:\u001b[49m\u001b[43m \u001b[49m\u001b[38;5;241;43m1e-6\u001b[39;49m\u001b[43m,\u001b[49m\u001b[43m \u001b[49m\u001b[38;5;124;43m'\u001b[39;49m\u001b[38;5;124;43mdisp\u001b[39;49m\u001b[38;5;124;43m'\u001b[39;49m\u001b[43m:\u001b[49m\u001b[43m \u001b[49m\u001b[38;5;28;43;01mTrue\u001b[39;49;00m\u001b[43m}\u001b[49m\u001b[43m)\u001b[49m\n",
      "File \u001b[0;32m~/.local/lib/python3.10/site-packages/scipy/optimize/_minimize.py:687\u001b[0m, in \u001b[0;36mminimize\u001b[0;34m(fun, x0, args, method, jac, hess, hessp, bounds, constraints, tol, callback, options)\u001b[0m\n\u001b[1;32m    685\u001b[0m     res \u001b[38;5;241m=\u001b[39m _minimize_cg(fun, x0, args, jac, callback, \u001b[38;5;241m*\u001b[39m\u001b[38;5;241m*\u001b[39moptions)\n\u001b[1;32m    686\u001b[0m \u001b[38;5;28;01melif\u001b[39;00m meth \u001b[38;5;241m==\u001b[39m \u001b[38;5;124m'\u001b[39m\u001b[38;5;124mbfgs\u001b[39m\u001b[38;5;124m'\u001b[39m:\n\u001b[0;32m--> 687\u001b[0m     res \u001b[38;5;241m=\u001b[39m \u001b[43m_minimize_bfgs\u001b[49m\u001b[43m(\u001b[49m\u001b[43mfun\u001b[49m\u001b[43m,\u001b[49m\u001b[43m \u001b[49m\u001b[43mx0\u001b[49m\u001b[43m,\u001b[49m\u001b[43m \u001b[49m\u001b[43margs\u001b[49m\u001b[43m,\u001b[49m\u001b[43m \u001b[49m\u001b[43mjac\u001b[49m\u001b[43m,\u001b[49m\u001b[43m \u001b[49m\u001b[43mcallback\u001b[49m\u001b[43m,\u001b[49m\u001b[43m \u001b[49m\u001b[38;5;241;43m*\u001b[39;49m\u001b[38;5;241;43m*\u001b[39;49m\u001b[43moptions\u001b[49m\u001b[43m)\u001b[49m\n\u001b[1;32m    688\u001b[0m \u001b[38;5;28;01melif\u001b[39;00m meth \u001b[38;5;241m==\u001b[39m \u001b[38;5;124m'\u001b[39m\u001b[38;5;124mnewton-cg\u001b[39m\u001b[38;5;124m'\u001b[39m:\n\u001b[1;32m    689\u001b[0m     res \u001b[38;5;241m=\u001b[39m _minimize_newtoncg(fun, x0, args, jac, hess, hessp, callback,\n\u001b[1;32m    690\u001b[0m                              \u001b[38;5;241m*\u001b[39m\u001b[38;5;241m*\u001b[39moptions)\n",
      "File \u001b[0;32m~/.local/lib/python3.10/site-packages/scipy/optimize/_optimize.py:1296\u001b[0m, in \u001b[0;36m_minimize_bfgs\u001b[0;34m(fun, x0, args, jac, callback, gtol, norm, eps, maxiter, disp, return_all, finite_diff_rel_step, **unknown_options)\u001b[0m\n\u001b[1;32m   1293\u001b[0m \u001b[38;5;28;01mif\u001b[39;00m maxiter \u001b[38;5;129;01mis\u001b[39;00m \u001b[38;5;28;01mNone\u001b[39;00m:\n\u001b[1;32m   1294\u001b[0m     maxiter \u001b[38;5;241m=\u001b[39m \u001b[38;5;28mlen\u001b[39m(x0) \u001b[38;5;241m*\u001b[39m \u001b[38;5;241m200\u001b[39m\n\u001b[0;32m-> 1296\u001b[0m sf \u001b[38;5;241m=\u001b[39m \u001b[43m_prepare_scalar_function\u001b[49m\u001b[43m(\u001b[49m\u001b[43mfun\u001b[49m\u001b[43m,\u001b[49m\u001b[43m \u001b[49m\u001b[43mx0\u001b[49m\u001b[43m,\u001b[49m\u001b[43m \u001b[49m\u001b[43mjac\u001b[49m\u001b[43m,\u001b[49m\u001b[43m \u001b[49m\u001b[43margs\u001b[49m\u001b[38;5;241;43m=\u001b[39;49m\u001b[43margs\u001b[49m\u001b[43m,\u001b[49m\u001b[43m \u001b[49m\u001b[43mepsilon\u001b[49m\u001b[38;5;241;43m=\u001b[39;49m\u001b[43meps\u001b[49m\u001b[43m,\u001b[49m\n\u001b[1;32m   1297\u001b[0m \u001b[43m                              \u001b[49m\u001b[43mfinite_diff_rel_step\u001b[49m\u001b[38;5;241;43m=\u001b[39;49m\u001b[43mfinite_diff_rel_step\u001b[49m\u001b[43m)\u001b[49m\n\u001b[1;32m   1299\u001b[0m f \u001b[38;5;241m=\u001b[39m sf\u001b[38;5;241m.\u001b[39mfun\n\u001b[1;32m   1300\u001b[0m myfprime \u001b[38;5;241m=\u001b[39m sf\u001b[38;5;241m.\u001b[39mgrad\n",
      "File \u001b[0;32m~/.local/lib/python3.10/site-packages/scipy/optimize/_optimize.py:263\u001b[0m, in \u001b[0;36m_prepare_scalar_function\u001b[0;34m(fun, x0, jac, args, bounds, epsilon, finite_diff_rel_step, hess)\u001b[0m\n\u001b[1;32m    259\u001b[0m     bounds \u001b[38;5;241m=\u001b[39m (\u001b[38;5;241m-\u001b[39mnp\u001b[38;5;241m.\u001b[39minf, np\u001b[38;5;241m.\u001b[39minf)\n\u001b[1;32m    261\u001b[0m \u001b[38;5;66;03m# ScalarFunction caches. Reuse of fun(x) during grad\u001b[39;00m\n\u001b[1;32m    262\u001b[0m \u001b[38;5;66;03m# calculation reduces overall function evaluations.\u001b[39;00m\n\u001b[0;32m--> 263\u001b[0m sf \u001b[38;5;241m=\u001b[39m \u001b[43mScalarFunction\u001b[49m\u001b[43m(\u001b[49m\u001b[43mfun\u001b[49m\u001b[43m,\u001b[49m\u001b[43m \u001b[49m\u001b[43mx0\u001b[49m\u001b[43m,\u001b[49m\u001b[43m \u001b[49m\u001b[43margs\u001b[49m\u001b[43m,\u001b[49m\u001b[43m \u001b[49m\u001b[43mgrad\u001b[49m\u001b[43m,\u001b[49m\u001b[43m \u001b[49m\u001b[43mhess\u001b[49m\u001b[43m,\u001b[49m\n\u001b[1;32m    264\u001b[0m \u001b[43m                    \u001b[49m\u001b[43mfinite_diff_rel_step\u001b[49m\u001b[43m,\u001b[49m\u001b[43m \u001b[49m\u001b[43mbounds\u001b[49m\u001b[43m,\u001b[49m\u001b[43m \u001b[49m\u001b[43mepsilon\u001b[49m\u001b[38;5;241;43m=\u001b[39;49m\u001b[43mepsilon\u001b[49m\u001b[43m)\u001b[49m\n\u001b[1;32m    266\u001b[0m \u001b[38;5;28;01mreturn\u001b[39;00m sf\n",
      "File \u001b[0;32m~/.local/lib/python3.10/site-packages/scipy/optimize/_differentiable_functions.py:107\u001b[0m, in \u001b[0;36mScalarFunction.__init__\u001b[0;34m(self, fun, x0, args, grad, hess, finite_diff_rel_step, finite_diff_bounds, epsilon)\u001b[0m\n\u001b[1;32m    101\u001b[0m     \u001b[38;5;28;01mraise\u001b[39;00m \u001b[38;5;167;01mValueError\u001b[39;00m(\u001b[38;5;124m\"\u001b[39m\u001b[38;5;124mWhenever the gradient is estimated via \u001b[39m\u001b[38;5;124m\"\u001b[39m\n\u001b[1;32m    102\u001b[0m                      \u001b[38;5;124m\"\u001b[39m\u001b[38;5;124mfinite-differences, we require the Hessian \u001b[39m\u001b[38;5;124m\"\u001b[39m\n\u001b[1;32m    103\u001b[0m                      \u001b[38;5;124m\"\u001b[39m\u001b[38;5;124mto be estimated using one of the \u001b[39m\u001b[38;5;124m\"\u001b[39m\n\u001b[1;32m    104\u001b[0m                      \u001b[38;5;124m\"\u001b[39m\u001b[38;5;124mquasi-Newton strategies.\u001b[39m\u001b[38;5;124m\"\u001b[39m)\n\u001b[1;32m    106\u001b[0m \u001b[38;5;66;03m# the astype call ensures that self.x is a copy of x0\u001b[39;00m\n\u001b[0;32m--> 107\u001b[0m \u001b[38;5;28mself\u001b[39m\u001b[38;5;241m.\u001b[39mx \u001b[38;5;241m=\u001b[39m \u001b[43mnp\u001b[49m\u001b[38;5;241;43m.\u001b[39;49m\u001b[43matleast_1d\u001b[49m\u001b[43m(\u001b[49m\u001b[43mx0\u001b[49m\u001b[43m)\u001b[49m\u001b[38;5;241;43m.\u001b[39;49m\u001b[43mastype\u001b[49m\u001b[43m(\u001b[49m\u001b[38;5;28;43mfloat\u001b[39;49m\u001b[43m)\u001b[49m\n\u001b[1;32m    108\u001b[0m \u001b[38;5;28mself\u001b[39m\u001b[38;5;241m.\u001b[39mn \u001b[38;5;241m=\u001b[39m \u001b[38;5;28mself\u001b[39m\u001b[38;5;241m.\u001b[39mx\u001b[38;5;241m.\u001b[39msize\n\u001b[1;32m    109\u001b[0m \u001b[38;5;28mself\u001b[39m\u001b[38;5;241m.\u001b[39mnfev \u001b[38;5;241m=\u001b[39m \u001b[38;5;241m0\u001b[39m\n",
      "\u001b[0;31mTypeError\u001b[0m: float() argument must be a string or a real number, not 'generator'"
     ]
    }
   ],
   "source": [
    "# trust region optimizer with SR1 update\n",
    "res = so.minimize(fun=FEM_model.cost, jac=FEM_model.grad, x0=model.parameters(), method='BFGS', \n",
    "                  options={'gtol': 1e-6, 'disp': True})"
   ]
  },
  {
   "cell_type": "markdown",
   "id": "95b8f222",
   "metadata": {},
   "source": [
    "# Train model"
   ]
  },
  {
   "cell_type": "code",
   "execution_count": 445,
   "id": "73d28bfe",
   "metadata": {},
   "outputs": [
    {
     "ename": "TypeError",
     "evalue": "'method' object is not iterable",
     "output_type": "error",
     "traceback": [
      "\u001b[0;31m---------------------------------------------------------------------------\u001b[0m",
      "\u001b[0;31mTypeError\u001b[0m                                 Traceback (most recent call last)",
      "Input \u001b[0;32mIn [445]\u001b[0m, in \u001b[0;36m<cell line: 1>\u001b[0;34m()\u001b[0m\n\u001b[0;32m----> 1\u001b[0m \u001b[43mtorch\u001b[49m\u001b[38;5;241;43m.\u001b[39;49m\u001b[43mautograd\u001b[49m\u001b[38;5;241;43m.\u001b[39;49m\u001b[43mgrad\u001b[49m\u001b[43m(\u001b[49m\u001b[43mmodel\u001b[49m\u001b[38;5;241;43m.\u001b[39;49m\u001b[43mforward\u001b[49m\u001b[43m,\u001b[49m\u001b[43m \u001b[49m\u001b[43mmodel\u001b[49m\u001b[38;5;241;43m.\u001b[39;49m\u001b[43mparameters\u001b[49m\u001b[43m(\u001b[49m\u001b[43m)\u001b[49m\u001b[43m)\u001b[49m\n",
      "File \u001b[0;32m~/anaconda3/envs/fenicsproject/lib/python3.10/site-packages/torch/autograd/__init__.py:262\u001b[0m, in \u001b[0;36mgrad\u001b[0;34m(outputs, inputs, grad_outputs, retain_graph, create_graph, only_inputs, allow_unused, is_grads_batched)\u001b[0m\n\u001b[1;32m    201\u001b[0m \u001b[38;5;28;01mdef\u001b[39;00m \u001b[38;5;21mgrad\u001b[39m(\n\u001b[1;32m    202\u001b[0m     outputs: _TensorOrTensors,\n\u001b[1;32m    203\u001b[0m     inputs: _TensorOrTensors,\n\u001b[0;32m   (...)\u001b[0m\n\u001b[1;32m    209\u001b[0m     is_grads_batched: \u001b[38;5;28mbool\u001b[39m \u001b[38;5;241m=\u001b[39m \u001b[38;5;28;01mFalse\u001b[39;00m\n\u001b[1;32m    210\u001b[0m ) \u001b[38;5;241m-\u001b[39m\u001b[38;5;241m>\u001b[39m Tuple[torch\u001b[38;5;241m.\u001b[39mTensor, \u001b[38;5;241m.\u001b[39m\u001b[38;5;241m.\u001b[39m\u001b[38;5;241m.\u001b[39m]:\n\u001b[1;32m    211\u001b[0m     \u001b[38;5;124mr\u001b[39m\u001b[38;5;124;03m\"\"\"Computes and returns the sum of gradients of outputs with respect to\u001b[39;00m\n\u001b[1;32m    212\u001b[0m \u001b[38;5;124;03m    the inputs.\u001b[39;00m\n\u001b[1;32m    213\u001b[0m \n\u001b[0;32m   (...)\u001b[0m\n\u001b[1;32m    260\u001b[0m \u001b[38;5;124;03m            for your use case. Defaults to ``False``.\u001b[39;00m\n\u001b[1;32m    261\u001b[0m \u001b[38;5;124;03m    \"\"\"\u001b[39;00m\n\u001b[0;32m--> 262\u001b[0m     t_outputs \u001b[38;5;241m=\u001b[39m cast(Tuple[torch\u001b[38;5;241m.\u001b[39mTensor, \u001b[38;5;241m.\u001b[39m\u001b[38;5;241m.\u001b[39m\u001b[38;5;241m.\u001b[39m], (outputs,) \u001b[38;5;28;01mif\u001b[39;00m is_tensor_like(outputs) \u001b[38;5;28;01melse\u001b[39;00m \u001b[38;5;28;43mtuple\u001b[39;49m\u001b[43m(\u001b[49m\u001b[43moutputs\u001b[49m\u001b[43m)\u001b[49m)\n\u001b[1;32m    263\u001b[0m     t_inputs \u001b[38;5;241m=\u001b[39m cast(Tuple[torch\u001b[38;5;241m.\u001b[39mTensor, \u001b[38;5;241m.\u001b[39m\u001b[38;5;241m.\u001b[39m\u001b[38;5;241m.\u001b[39m], (inputs,) \u001b[38;5;28;01mif\u001b[39;00m is_tensor_like(inputs) \u001b[38;5;28;01melse\u001b[39;00m \u001b[38;5;28mtuple\u001b[39m(inputs))\n\u001b[1;32m    264\u001b[0m     overridable_args \u001b[38;5;241m=\u001b[39m t_outputs \u001b[38;5;241m+\u001b[39m t_inputs\n",
      "\u001b[0;31mTypeError\u001b[0m: 'method' object is not iterable"
     ]
    }
   ],
   "source": [
    "torch.autograd.grad(model.forward, model.parameters())\n"
   ]
  },
  {
   "cell_type": "code",
   "execution_count": 452,
   "id": "5090a0d3",
   "metadata": {},
   "outputs": [
    {
     "ename": "RuntimeError",
     "evalue": "grad can be implicitly created only for scalar outputs",
     "output_type": "error",
     "traceback": [
      "\u001b[0;31m---------------------------------------------------------------------------\u001b[0m",
      "\u001b[0;31mRuntimeError\u001b[0m                              Traceback (most recent call last)",
      "Input \u001b[0;32mIn [452]\u001b[0m, in \u001b[0;36m<cell line: 1>\u001b[0;34m()\u001b[0m\n\u001b[0;32m----> 1\u001b[0m \u001b[43mtorch\u001b[49m\u001b[38;5;241;43m.\u001b[39;49m\u001b[43mautograd\u001b[49m\u001b[38;5;241;43m.\u001b[39;49m\u001b[43mbackward\u001b[49m\u001b[43m(\u001b[49m\u001b[43mmodel\u001b[49m\u001b[38;5;241;43m.\u001b[39;49m\u001b[43mparameters\u001b[49m\u001b[43m(\u001b[49m\u001b[43m)\u001b[49m\u001b[43m)\u001b[49m\n",
      "File \u001b[0;32m~/anaconda3/envs/fenicsproject/lib/python3.10/site-packages/torch/autograd/__init__.py:190\u001b[0m, in \u001b[0;36mbackward\u001b[0;34m(tensors, grad_tensors, retain_graph, create_graph, grad_variables, inputs)\u001b[0m\n\u001b[1;32m    186\u001b[0m inputs \u001b[38;5;241m=\u001b[39m (inputs,) \u001b[38;5;28;01mif\u001b[39;00m \u001b[38;5;28misinstance\u001b[39m(inputs, torch\u001b[38;5;241m.\u001b[39mTensor) \u001b[38;5;28;01melse\u001b[39;00m \\\n\u001b[1;32m    187\u001b[0m     \u001b[38;5;28mtuple\u001b[39m(inputs) \u001b[38;5;28;01mif\u001b[39;00m inputs \u001b[38;5;129;01mis\u001b[39;00m \u001b[38;5;129;01mnot\u001b[39;00m \u001b[38;5;28;01mNone\u001b[39;00m \u001b[38;5;28;01melse\u001b[39;00m \u001b[38;5;28mtuple\u001b[39m()\n\u001b[1;32m    189\u001b[0m grad_tensors_ \u001b[38;5;241m=\u001b[39m _tensor_or_tensors_to_tuple(grad_tensors, \u001b[38;5;28mlen\u001b[39m(tensors))\n\u001b[0;32m--> 190\u001b[0m grad_tensors_ \u001b[38;5;241m=\u001b[39m \u001b[43m_make_grads\u001b[49m\u001b[43m(\u001b[49m\u001b[43mtensors\u001b[49m\u001b[43m,\u001b[49m\u001b[43m \u001b[49m\u001b[43mgrad_tensors_\u001b[49m\u001b[43m,\u001b[49m\u001b[43m \u001b[49m\u001b[43mis_grads_batched\u001b[49m\u001b[38;5;241;43m=\u001b[39;49m\u001b[38;5;28;43;01mFalse\u001b[39;49;00m\u001b[43m)\u001b[49m\n\u001b[1;32m    191\u001b[0m \u001b[38;5;28;01mif\u001b[39;00m retain_graph \u001b[38;5;129;01mis\u001b[39;00m \u001b[38;5;28;01mNone\u001b[39;00m:\n\u001b[1;32m    192\u001b[0m     retain_graph \u001b[38;5;241m=\u001b[39m create_graph\n",
      "File \u001b[0;32m~/anaconda3/envs/fenicsproject/lib/python3.10/site-packages/torch/autograd/__init__.py:85\u001b[0m, in \u001b[0;36m_make_grads\u001b[0;34m(outputs, grads, is_grads_batched)\u001b[0m\n\u001b[1;32m     83\u001b[0m \u001b[38;5;28;01mif\u001b[39;00m out\u001b[38;5;241m.\u001b[39mrequires_grad:\n\u001b[1;32m     84\u001b[0m     \u001b[38;5;28;01mif\u001b[39;00m out\u001b[38;5;241m.\u001b[39mnumel() \u001b[38;5;241m!=\u001b[39m \u001b[38;5;241m1\u001b[39m:\n\u001b[0;32m---> 85\u001b[0m         \u001b[38;5;28;01mraise\u001b[39;00m \u001b[38;5;167;01mRuntimeError\u001b[39;00m(\u001b[38;5;124m\"\u001b[39m\u001b[38;5;124mgrad can be implicitly created only for scalar outputs\u001b[39m\u001b[38;5;124m\"\u001b[39m)\n\u001b[1;32m     86\u001b[0m     new_grads\u001b[38;5;241m.\u001b[39mappend(torch\u001b[38;5;241m.\u001b[39mones_like(out, memory_format\u001b[38;5;241m=\u001b[39mtorch\u001b[38;5;241m.\u001b[39mpreserve_format))\n\u001b[1;32m     87\u001b[0m \u001b[38;5;28;01melse\u001b[39;00m:\n",
      "\u001b[0;31mRuntimeError\u001b[0m: grad can be implicitly created only for scalar outputs"
     ]
    }
   ],
   "source": [
    "torch.autograd.backward(model.parameters())"
   ]
  },
  {
   "cell_type": "code",
   "execution_count": null,
   "id": "b8902e75",
   "metadata": {},
   "outputs": [],
   "source": []
  }
 ],
 "metadata": {
  "kernelspec": {
   "display_name": "Python 3 (ipykernel)",
   "language": "python",
   "name": "python3"
  },
  "language_info": {
   "codemirror_mode": {
    "name": "ipython",
    "version": 3
   },
   "file_extension": ".py",
   "mimetype": "text/x-python",
   "name": "python",
   "nbconvert_exporter": "python",
   "pygments_lexer": "ipython3",
   "version": "3.10.4"
  }
 },
 "nbformat": 4,
 "nbformat_minor": 5
}
